{
 "cells": [
  {
   "cell_type": "markdown",
   "id": "863cdfcb-3312-4390-9270-24501325647d",
   "metadata": {},
   "source": [
    "# Импорт необходимых библиотек"
   ]
  },
  {
   "cell_type": "code",
   "execution_count": 110,
   "id": "9246790f-03b1-44f9-9efb-be35fbd1803f",
   "metadata": {},
   "outputs": [],
   "source": [
    "from pyspark.sql.window import Window\n",
    "from pyspark.sql.functions import avg, stddev, abs, col"
   ]
  },
  {
   "cell_type": "code",
   "execution_count": 126,
   "id": "2f2d75a0-eeb2-41a1-b6a8-34d9eb2a3b1b",
   "metadata": {},
   "outputs": [],
   "source": [
    "import pyspark.sql.functions as F\n",
    "from pyspark.sql.functions import round\n",
    "from pyspark.sql import SparkSession\n",
    "from pyspark.sql.window import Window"
   ]
  },
  {
   "cell_type": "markdown",
   "id": "15fe0b30-d0d3-48e3-838a-8c381e610ef7",
   "metadata": {},
   "source": [
    "# Запуск Spark сессии"
   ]
  },
  {
   "cell_type": "code",
   "execution_count": 2,
   "id": "45a349f0-bc5b-4bc8-8672-b1b2efc42cea",
   "metadata": {},
   "outputs": [
    {
     "name": "stdout",
     "output_type": "stream",
     "text": [
      "Spark успешно запущен!\n"
     ]
    }
   ],
   "source": [
    "from pyspark.sql import SparkSession\n",
    "\n",
    "spark = SparkSession.builder \\\n",
    "    .appName(\"TTTT\") \\\n",
    "    .config(\"spark.jars\", \"/opt/spark/jars/clickhouse-jdbc-0.9.1.jar,/opt/spark/jars/postgresql-42.7.7.jar\") \\\n",
    "    .getOrCreate()\n",
    "\n",
    "print(\"Spark успешно запущен!\")"
   ]
  },
  {
   "cell_type": "code",
   "execution_count": 3,
   "id": "18fe640b-1b14-4c22-8a14-c0e4882e830a",
   "metadata": {},
   "outputs": [
    {
     "data": {
      "text/html": [
       "\n",
       "            <div>\n",
       "                <p><b>SparkSession - in-memory</b></p>\n",
       "                \n",
       "        <div>\n",
       "            <p><b>SparkContext</b></p>\n",
       "\n",
       "            <p><a href=\"http://77346ecdd72b:4040\">Spark UI</a></p>\n",
       "\n",
       "            <dl>\n",
       "              <dt>Version</dt>\n",
       "                <dd><code>v3.5.0</code></dd>\n",
       "              <dt>Master</dt>\n",
       "                <dd><code>local[*]</code></dd>\n",
       "              <dt>AppName</dt>\n",
       "                <dd><code>TTTT</code></dd>\n",
       "            </dl>\n",
       "        </div>\n",
       "        \n",
       "            </div>\n",
       "        "
      ],
      "text/plain": [
       "<pyspark.sql.session.SparkSession at 0x7e8cb8a53f90>"
      ]
     },
     "execution_count": 3,
     "metadata": {},
     "output_type": "execute_result"
    }
   ],
   "source": [
    "spark"
   ]
  },
  {
   "cell_type": "code",
   "execution_count": 5,
   "id": "f644df67-1aef-4550-8e55-688e7a1a54e8",
   "metadata": {},
   "outputs": [
    {
     "name": "stdout",
     "output_type": "stream",
     "text": [
      "+----+-----+\n",
      "|Name|Value|\n",
      "+----+-----+\n",
      "|Test|    1|\n",
      "+----+-----+\n",
      "\n"
     ]
    }
   ],
   "source": [
    "# data = [(\"Test\", 1)]\n",
    "# df = spark.createDataFrame(data, [\"Name\", \"Value\"])\n",
    "# df.show()\n"
   ]
  },
  {
   "cell_type": "code",
   "execution_count": 10,
   "id": "3529719e-601c-4f2f-b5aa-ce8ce84025fb",
   "metadata": {},
   "outputs": [
    {
     "name": "stdout",
     "output_type": "stream",
     "text": [
      "Spark UI port: http://77346ecdd72b:4040\n",
      "Spark UI: http://77346ecdd72b:4040\n"
     ]
    }
   ],
   "source": [
    "# # Узнать текущий порт Spark UI\n",
    "# print(\"Spark UI port:\", spark.sparkContext.uiWebUrl)\n",
    "\n",
    "# # Или получить ссылку напрямую\n",
    "# spark_ui_url = spark.sparkContext.uiWebUrl\n",
    "# print(f\"Spark UI: {spark_ui_url}\")"
   ]
  },
  {
   "cell_type": "code",
   "execution_count": 80,
   "id": "d17c401f-aaf8-4be5-8d82-c3c11b3f3e40",
   "metadata": {},
   "outputs": [
    {
     "name": "stdout",
     "output_type": "stream",
     "text": [
      "Spark UI доступен по адресу: http://77346ecdd72b:4040\n"
     ]
    },
    {
     "ename": "AttributeError",
     "evalue": "'SparkContext' object has no attribute 'config'",
     "output_type": "error",
     "traceback": [
      "\u001b[0;31m---------------------------------------------------------------------------\u001b[0m",
      "\u001b[0;31mAttributeError\u001b[0m                            Traceback (most recent call last)",
      "Cell \u001b[0;32mIn[80], line 6\u001b[0m\n\u001b[1;32m      3\u001b[0m \u001b[38;5;28mprint\u001b[39m(\u001b[38;5;124m\"\u001b[39m\u001b[38;5;124mSpark UI доступен по адресу:\u001b[39m\u001b[38;5;124m\"\u001b[39m, ui_address)\n\u001b[1;32m      5\u001b[0m \u001b[38;5;66;03m# Также можно получить отдельно host и port\u001b[39;00m\n\u001b[0;32m----> 6\u001b[0m ui_host \u001b[38;5;241m=\u001b[39m \u001b[43mspark\u001b[49m\u001b[38;5;241;43m.\u001b[39;49m\u001b[43msparkContext\u001b[49m\u001b[38;5;241;43m.\u001b[39;49m\u001b[43mconfig\u001b[49m\u001b[38;5;241m.\u001b[39mget(\u001b[38;5;124m\"\u001b[39m\u001b[38;5;124mspark.driver.host\u001b[39m\u001b[38;5;124m\"\u001b[39m, \u001b[38;5;124m\"\u001b[39m\u001b[38;5;124mlocalhost\u001b[39m\u001b[38;5;124m\"\u001b[39m)\n\u001b[1;32m      7\u001b[0m ui_port \u001b[38;5;241m=\u001b[39m spark\u001b[38;5;241m.\u001b[39msparkContext\u001b[38;5;241m.\u001b[39mconf\u001b[38;5;241m.\u001b[39mget(\u001b[38;5;124m\"\u001b[39m\u001b[38;5;124mspark.ui.port\u001b[39m\u001b[38;5;124m\"\u001b[39m, \u001b[38;5;124m\"\u001b[39m\u001b[38;5;124m4040\u001b[39m\u001b[38;5;124m\"\u001b[39m)\n\u001b[1;32m      8\u001b[0m \u001b[38;5;28mprint\u001b[39m(\u001b[38;5;124mf\u001b[39m\u001b[38;5;124m\"\u001b[39m\u001b[38;5;124mSpark UI host: \u001b[39m\u001b[38;5;132;01m{\u001b[39;00mui_host\u001b[38;5;132;01m}\u001b[39;00m\u001b[38;5;124m, port: \u001b[39m\u001b[38;5;132;01m{\u001b[39;00mui_port\u001b[38;5;132;01m}\u001b[39;00m\u001b[38;5;124m\"\u001b[39m)\n",
      "\u001b[0;31mAttributeError\u001b[0m: 'SparkContext' object has no attribute 'config'"
     ]
    }
   ],
   "source": [
    "# Узнаем текущий адрес Spark UI\n",
    "ui_address = spark.sparkContext.uiWebUrl\n",
    "print(\"Spark UI доступен по адресу:\", ui_address)\n",
    "\n",
    "# Также можно получить отдельно host и port\n",
    "ui_host = spark.sparkContext.conf.get(\"spark.driver.host\", \"localhost\")\n",
    "ui_port = spark.sparkContext.conf.get(\"spark.ui.port\", \"4040\")\n",
    "print(f\"Spark UI host: {ui_host}, port: {ui_port}\")"
   ]
  },
  {
   "cell_type": "markdown",
   "id": "9baeb2dd-6e56-4d5b-a348-7a874a5ab2b9",
   "metadata": {},
   "source": [
    "# Подключаемся к источникам"
   ]
  },
  {
   "cell_type": "markdown",
   "id": "bb6c204a-b5d7-4b5e-9185-f9a2e500b8df",
   "metadata": {},
   "source": [
    "## csv"
   ]
  },
  {
   "cell_type": "code",
   "execution_count": 4,
   "id": "beac0a08-8687-47ef-96ab-179d345d2c16",
   "metadata": {},
   "outputs": [
    {
     "name": "stdout",
     "output_type": "stream",
     "text": [
      "root\n",
      " |-- campaign_id: integer (nullable = true)\n",
      " |-- campaign_name: string (nullable = true)\n",
      "\n",
      "+-----------+------------------------------------------+\n",
      "|campaign_id|campaign_name                             |\n",
      "+-----------+------------------------------------------+\n",
      "|1          |year_modern_kitchen_launch_20250115       |\n",
      "|2          |quarter_custom_kitchens_showcase_20240210 |\n",
      "|3          |month_smart_kitchen_promotion_20240305    |\n",
      "|4          |year_luxury_kitchens_exhibit_20240420     |\n",
      "|5          |quarter_ecofriendly_kitchen_offer_20240512|\n",
      "+-----------+------------------------------------------+\n",
      "only showing top 5 rows\n",
      "\n"
     ]
    }
   ],
   "source": [
    "campaigns_dict = spark.read.option(\"header\", \"true\").option(\"inferSchema\", \"true\").csv(\"/data/campaigns_dict.csv\")\n",
    "\n",
    "# Показать структуру\n",
    "campaigns_dict.printSchema()\n",
    "\n",
    "# Показать данные\n",
    "campaigns_dict.show(5, truncate = False)"
   ]
  },
  {
   "cell_type": "markdown",
   "id": "d7de5a62-c7dc-4911-88fe-516864ec97bc",
   "metadata": {},
   "source": [
    "## parquet"
   ]
  },
  {
   "cell_type": "code",
   "execution_count": 5,
   "id": "fc57a790-b1a3-4665-aad4-ea3dca2ad4e8",
   "metadata": {},
   "outputs": [],
   "source": [
    "submits = spark.read.parquet(\"/data/submits.parquet\")\n"
   ]
  },
  {
   "cell_type": "code",
   "execution_count": 55,
   "id": "1bedc136-136c-4ac0-a2b3-dbf976dac44f",
   "metadata": {},
   "outputs": [
    {
     "name": "stdout",
     "output_type": "stream",
     "text": [
      "+---------+--------+-----------+\n",
      "|submit_id|    name|      phone|\n",
      "+---------+--------+-----------+\n",
      "|     2282|Jennifer|79511904041|\n",
      "|     9898| Jeffrey|79824419733|\n",
      "|     9005|   Linda|79074725672|\n",
      "|     1507|  Teresa|79864203598|\n",
      "|     3803|   Tanya|79779567654|\n",
      "|     5351| Lindsay|79818056314|\n",
      "|     9262|   Holly|79492883186|\n",
      "|     7363|  Sharon|79323094610|\n",
      "|     4705| Jessica|79035076887|\n",
      "|     6148| Gabriel|79763476258|\n",
      "|     4926| Michael|79007408862|\n",
      "|     3823| Patrick|79549207982|\n",
      "|     4951| Cameron|79335443328|\n",
      "|     2733|  Robert|79752185660|\n",
      "|     1938| William|79785933427|\n",
      "|     2934| Bradley|79833514346|\n",
      "|       22|Michelle|79980687808|\n",
      "|     6845|  Alisha|79027372303|\n",
      "|      243|    Eric|79527208561|\n",
      "|      534|Jennifer|79951079715|\n",
      "+---------+--------+-----------+\n",
      "only showing top 20 rows\n",
      "\n"
     ]
    }
   ],
   "source": [
    "submits.show()"
   ]
  },
  {
   "cell_type": "code",
   "execution_count": 21,
   "id": "53932f28-10cc-4704-bb36-e2a4a80c6f6a",
   "metadata": {},
   "outputs": [
    {
     "name": "stdout",
     "output_type": "stream",
     "text": [
      "root\n",
      " |-- submit_id: long (nullable = true)\n",
      " |-- name: string (nullable = true)\n",
      " |-- phone: long (nullable = true)\n",
      "\n"
     ]
    }
   ],
   "source": [
    "submits.printSchema()"
   ]
  },
  {
   "cell_type": "code",
   "execution_count": 9,
   "id": "45a62080-41e7-4e6e-b9d5-75d126e86f05",
   "metadata": {},
   "outputs": [],
   "source": [
    "import pyarrow\n",
    "import pyarrow.parquet as pq"
   ]
  },
  {
   "cell_type": "code",
   "execution_count": 10,
   "id": "28cf4a34-68ef-4c67-98dc-df77c2a3d977",
   "metadata": {},
   "outputs": [
    {
     "data": {
      "text/plain": [
       "<pyarrow._parquet.FileMetaData object at 0x7f560e2d9a30>\n",
       "  created_by: parquet-cpp-arrow version 19.0.0\n",
       "  num_columns: 3\n",
       "  num_rows: 4000\n",
       "  num_row_groups: 1\n",
       "  format_version: 2.6\n",
       "  serialized_size: 2371"
      ]
     },
     "execution_count": 10,
     "metadata": {},
     "output_type": "execute_result"
    }
   ],
   "source": [
    "pq.read_metadata(\"/data/submits.parquet\")"
   ]
  },
  {
   "cell_type": "code",
   "execution_count": 35,
   "id": "111066be-02f0-4bd4-8b60-3f738737263a",
   "metadata": {},
   "outputs": [],
   "source": [
    "deals = spark.read.parquet(\"/data/deals.parquet\")\n"
   ]
  },
  {
   "cell_type": "code",
   "execution_count": 64,
   "id": "e3b0882b-ad8f-46ab-979c-9103cb5dae9f",
   "metadata": {},
   "outputs": [
    {
     "name": "stdout",
     "output_type": "stream",
     "text": [
      "+-------+----------+---------------------+-----------+------------------------+-----------------------------------------------------+\n",
      "|deal_id|deal_date |fio                  |phone      |email                   |address                                              |\n",
      "+-------+----------+---------------------+-----------+------------------------+-----------------------------------------------------+\n",
      "|1      |2024-03-04|Gregory Wu           |79746561889|paul80@example.net      |098 Yates Cliff Apt. 241, East Monica, DE 88076      |\n",
      "|2      |2024-08-20|William Ross Jr.     |79074725672|xyoung@example.org      |197 Willie Groves Apt. 655, Port Angelaberg, LA 39384|\n",
      "|3      |2024-10-15|Sonya Kerr           |79201244835|elewis@example.com      |144 Andrew Cape, Lake Nicholas, SC 58918             |\n",
      "|4      |2024-12-31|Mrs. Angela Tucker MD|79771829751|robertparker@example.net|6056 Collins View, South Harold, OR 15650            |\n",
      "|5      |2024-03-23|Eric Flores          |79729054809|barbara73@example.net   |29684 Mcfarland Burg Suite 225, New Joseph, PW 68120 |\n",
      "+-------+----------+---------------------+-----------+------------------------+-----------------------------------------------------+\n",
      "only showing top 5 rows\n",
      "\n"
     ]
    }
   ],
   "source": [
    "deals.show(5, truncate = False)"
   ]
  },
  {
   "cell_type": "markdown",
   "id": "1a6fd2e7-40c0-406b-ad6d-70daebf1fc42",
   "metadata": {},
   "source": [
    "## postgres"
   ]
  },
  {
   "cell_type": "code",
   "execution_count": 43,
   "id": "e76a351b-11d1-4822-a5dc-c435027bf8b9",
   "metadata": {},
   "outputs": [],
   "source": [
    "pg_host = 'localhost'\n",
    "pg_port = '5432'\n",
    "pg_db = 'webinar'\n",
    "pg_table = 'costs'\n",
    "pg_user = 'postgres'\n",
    "pg_password = 'postgres'"
   ]
  },
  {
   "cell_type": "code",
   "execution_count": 6,
   "id": "e63a1988-b426-4d00-aa5d-0b9cb5c56b99",
   "metadata": {},
   "outputs": [],
   "source": [
    "# Используйте IP адрес контейнера PostgreSQL\n",
    "pg_host = '172.17.0.3'    # IP адрес из docker inspect\n",
    "pg_port = '5432'          # Порт PostgreSQL\n",
    "pg_db = 'webinar'         # База данных\n",
    "pg_user = 'postgres'      # Пользователь\n",
    "pg_password = 'postgres'  # Пароль\n",
    "\n",
    "# spark = SparkSession.builder \\\n",
    "#     .appName(\"PostgreSQL Connection\") \\\n",
    "#     .config(\"spark.jars\", \"/opt/spark/jars/postgresql-42.7.7.jar\") \\\n",
    "#     .getOrCreate()\n",
    "\n",
    "# Сначала создайте тестовую таблицу\n",
    "# Выполните в терминале:\n",
    "# docker exec -it postgres psql -U postgres -d webinar -c \"CREATE TABLE costs (date DATE, campaign_id INTEGER, costs DECIMAL(10,2), clicks INTEGER, views INTEGER); INSERT INTO costs VALUES ('2024-01-01', 1, 670.52, 40, 110);\"\n"
   ]
  },
  {
   "cell_type": "code",
   "execution_count": 7,
   "id": "cafacc8a-f6b0-4bef-950e-d61854414725",
   "metadata": {},
   "outputs": [
    {
     "name": "stdout",
     "output_type": "stream",
     "text": [
      "+----------+-----------+------+------+-----+\n",
      "|      date|campaign_id| costs|clicks|views|\n",
      "+----------+-----------+------+------+-----+\n",
      "|2024-01-01|          1|670.52|    40|  110|\n",
      "|2024-01-01|          2| 602.5|    11|  849|\n",
      "|2024-01-01|          3|654.74|    51|  566|\n",
      "|2024-01-01|          4|897.24|    86|  679|\n",
      "|2024-01-01|          5|758.19|    30|  585|\n",
      "+----------+-----------+------+------+-----+\n",
      "only showing top 5 rows\n",
      "\n"
     ]
    }
   ],
   "source": [
    "\n",
    "costs = (\n",
    "    spark.read\n",
    "    .format('jdbc')\n",
    "    .option('url', f'jdbc:postgresql://{pg_host}:{pg_port}/{pg_db}')\n",
    "    .option('dbtable', 'costs')\n",
    "    .option('user', pg_user)\n",
    "    .option('password', pg_password)\n",
    "    .option('driver', 'org.postgresql.Driver')\n",
    "    .load()\n",
    ")\n",
    "\n",
    "costs.show(5)"
   ]
  },
  {
   "cell_type": "code",
   "execution_count": 34,
   "id": "bea51f2c-c773-427a-9456-f84141b6cf98",
   "metadata": {},
   "outputs": [
    {
     "data": {
      "text/plain": [
       "39300"
      ]
     },
     "execution_count": 34,
     "metadata": {},
     "output_type": "execute_result"
    }
   ],
   "source": [
    "costs.count()"
   ]
  },
  {
   "cell_type": "code",
   "execution_count": 53,
   "id": "537b1cc9-fa1d-40a3-9bfd-ef150e7909b9",
   "metadata": {},
   "outputs": [
    {
     "name": "stdout",
     "output_type": "stream",
     "text": [
      "root\n",
      " |-- date: date (nullable = true)\n",
      " |-- campaign_id: integer (nullable = true)\n",
      " |-- costs: double (nullable = true)\n",
      " |-- clicks: integer (nullable = true)\n",
      " |-- views: integer (nullable = true)\n",
      "\n"
     ]
    }
   ],
   "source": [
    "costs.printSchema()"
   ]
  },
  {
   "cell_type": "markdown",
   "id": "ac0becd6-a39b-4857-81c5-cfa8d14e738a",
   "metadata": {},
   "source": [
    "## clickhouse"
   ]
  },
  {
   "cell_type": "code",
   "execution_count": 24,
   "id": "f7d6059b-50b5-4334-9445-2d784eee48a5",
   "metadata": {},
   "outputs": [],
   "source": [
    "ch_host = '172.17.0.1'\n",
    "ch_port = '8123'\n",
    "ch_db = 'default'\n",
    "ch_table = 'visits_clickhouse'"
   ]
  },
  {
   "cell_type": "code",
   "execution_count": null,
   "id": "e1499710-174f-4d3c-aecb-d9be5b52fa4f",
   "metadata": {},
   "outputs": [],
   "source": []
  },
  {
   "cell_type": "code",
   "execution_count": 21,
   "id": "b300a5e5-cd57-4c49-b7d8-9c8eef591bb7",
   "metadata": {},
   "outputs": [],
   "source": [
    "\n",
    "# visits = (\n",
    "#     spark.read\n",
    "#     .format('jdbc')\n",
    "#     .option('url', f'jdbc:clickhouse://{ch_host}:{ch_port}/{ch_db}')\n",
    "#     .option('dbtable', ch_table)\n",
    "#     .option('driver', 'com.clickhouse.jdbc.ClickHouseDriver')\n",
    "#     .load()\n",
    "# )"
   ]
  },
  {
   "cell_type": "code",
   "execution_count": 25,
   "id": "ff2f4edb-269c-4e4c-8e9c-c7173c7e2a33",
   "metadata": {},
   "outputs": [
    {
     "name": "stdout",
     "output_type": "stream",
     "text": [
      "+-------+-------------------+--------------------+--------+--------+--------+--------------------+----------------+\n",
      "|visitid|      visitDateTime|                 URL|duration|clientID|  source|         UTMCampaign|          params|\n",
      "+-------+-------------------+--------------------+--------+--------+--------+--------------------+----------------+\n",
      "| 720128|2024-01-23 18:23:48|https://our-cool-...|      80|     289|      ad|month_openconcept...|              []|\n",
      "| 695905|2024-07-24 03:32:19|https://our-cool-...|      66|     765|internal|month_contemporar...|['submit', 9469]|\n",
      "| 124704|2024-05-21 15:29:08|https://our-cool-...|      91|     440|internal|month_openconcept...|              []|\n",
      "| 442188|2024-01-30 21:11:15|https://our-cool-...|      65|     140| organic|month_contemporar...| ['submit', 911]|\n",
      "| 644057|2024-03-11 14:05:08|https://our-cool-...|      22|     357|internal|month_openconcept...|              []|\n",
      "| 511300|2024-06-16 16:41:01|https://our-cool-...|      57|     918|  direct|month_openconcept...|['submit', 9928]|\n",
      "| 453192|2024-05-25 05:11:25|https://our-cool-...|      64|     114|      ad|quarter_ecofriend...|              []|\n",
      "| 976969|2024-10-11 21:53:10|https://our-cool-...|      85|     558| organic|month_contemporar...|              []|\n",
      "| 875845|2024-09-03 02:21:18|https://our-cool-...|       0|     344|internal|quarter_tradition...|              []|\n",
      "| 578317|2025-01-13 22:05:08|https://our-cool-...|      63|     164| organic|month_smart_kitch...|['submit', 4618]|\n",
      "| 832703|2024-12-03 00:12:23|https://our-cool-...|      20|     329|      ad|year_luxury_kitch...|              []|\n",
      "| 584988|2024-03-25 13:17:02|https://our-cool-...|      63|     209|      ad|month_smart_kitch...|['submit', 6538]|\n",
      "| 654571|2024-06-09 17:42:01|https://our-cool-...|      84|     719|      ad|month_contemporar...|              []|\n",
      "| 271155|2024-03-09 08:02:52|https://our-cool-...|      52|     717|      ad|year_traditional_...|['submit', 4993]|\n",
      "| 505012|2024-12-01 07:20:53|https://our-cool-...|      62|     725|      ad|month_contemporar...|              []|\n",
      "| 776324|2024-06-05 09:43:06|https://our-cool-...|      35|     226| organic|year_modern_kitch...|              []|\n",
      "| 498077|2024-04-20 17:16:34|https://our-cool-...|      34|     280|  direct|year_traditional_...|              []|\n",
      "| 631188|2024-06-12 17:26:39|https://our-cool-...|      70|     338|internal|quarter_custom_ki...| ['submit', 614]|\n",
      "| 808125|2024-11-26 19:01:47|https://our-cool-...|      45|     188|internal|quarter_tradition...|['submit', 5898]|\n",
      "| 326030|2024-11-15 16:05:19|https://our-cool-...|      49|     219|internal|year_modern_kitch...|              []|\n",
      "+-------+-------------------+--------------------+--------+--------+--------+--------------------+----------------+\n",
      "only showing top 20 rows\n",
      "\n"
     ]
    }
   ],
   "source": [
    "import requests\n",
    "import json\n",
    "from pyspark.sql.types import *\n",
    "\n",
    "# Выполним запрос к ClickHouse через HTTP API\n",
    "query = \"SELECT * FROM visits_clickhouse\"\n",
    "url = f\"http://{ch_host}:{ch_port}/?query={query}&default_format=JSONCompact\"\n",
    "\n",
    "try:\n",
    "    response = requests.get(url)\n",
    "    if response.status_code == 200:\n",
    "        # Парсим JSON ответ\n",
    "        data = response.json()\n",
    "        \n",
    "        # Извлекаем данные и схему\n",
    "        columns = [f['name'] for f in data['meta']]\n",
    "        rows = data['data']\n",
    "        \n",
    "        # Создаем DataFrame\n",
    "        visits = spark.createDataFrame(rows, columns)\n",
    "        visits.show()\n",
    "    else:\n",
    "        print(f\"Ошибка HTTP: {response.status_code}, {response.text}\")\n",
    "except Exception as e:\n",
    "    print(f\"Ошибка при выполнении запроса: {e}\")"
   ]
  },
  {
   "cell_type": "markdown",
   "id": "e690b031-c049-4931-b879-7b790628335d",
   "metadata": {},
   "source": [
    "# Готовим источники"
   ]
  },
  {
   "cell_type": "markdown",
   "id": "4b8e90f6-4faa-44d2-b190-c60b09ebf593",
   "metadata": {},
   "source": [
    "## 1. Визиты (clickhouse)"
   ]
  },
  {
   "cell_type": "code",
   "execution_count": 26,
   "id": "f586073b-2552-4fc7-b271-05e945d77a94",
   "metadata": {},
   "outputs": [
    {
     "name": "stdout",
     "output_type": "stream",
     "text": [
      "+-------+-------------------+--------------------+--------+--------+--------+--------------------+----------------+\n",
      "|visitid|      visitDateTime|                 URL|duration|clientID|  source|         UTMCampaign|          params|\n",
      "+-------+-------------------+--------------------+--------+--------+--------+--------------------+----------------+\n",
      "| 720128|2024-01-23 18:23:48|https://our-cool-...|      80|     289|      ad|month_openconcept...|              []|\n",
      "| 695905|2024-07-24 03:32:19|https://our-cool-...|      66|     765|internal|month_contemporar...|['submit', 9469]|\n",
      "| 124704|2024-05-21 15:29:08|https://our-cool-...|      91|     440|internal|month_openconcept...|              []|\n",
      "| 442188|2024-01-30 21:11:15|https://our-cool-...|      65|     140| organic|month_contemporar...| ['submit', 911]|\n",
      "| 644057|2024-03-11 14:05:08|https://our-cool-...|      22|     357|internal|month_openconcept...|              []|\n",
      "| 511300|2024-06-16 16:41:01|https://our-cool-...|      57|     918|  direct|month_openconcept...|['submit', 9928]|\n",
      "| 453192|2024-05-25 05:11:25|https://our-cool-...|      64|     114|      ad|quarter_ecofriend...|              []|\n",
      "| 976969|2024-10-11 21:53:10|https://our-cool-...|      85|     558| organic|month_contemporar...|              []|\n",
      "| 875845|2024-09-03 02:21:18|https://our-cool-...|       0|     344|internal|quarter_tradition...|              []|\n",
      "| 578317|2025-01-13 22:05:08|https://our-cool-...|      63|     164| organic|month_smart_kitch...|['submit', 4618]|\n",
      "| 832703|2024-12-03 00:12:23|https://our-cool-...|      20|     329|      ad|year_luxury_kitch...|              []|\n",
      "| 584988|2024-03-25 13:17:02|https://our-cool-...|      63|     209|      ad|month_smart_kitch...|['submit', 6538]|\n",
      "| 654571|2024-06-09 17:42:01|https://our-cool-...|      84|     719|      ad|month_contemporar...|              []|\n",
      "| 271155|2024-03-09 08:02:52|https://our-cool-...|      52|     717|      ad|year_traditional_...|['submit', 4993]|\n",
      "| 505012|2024-12-01 07:20:53|https://our-cool-...|      62|     725|      ad|month_contemporar...|              []|\n",
      "| 776324|2024-06-05 09:43:06|https://our-cool-...|      35|     226| organic|year_modern_kitch...|              []|\n",
      "| 498077|2024-04-20 17:16:34|https://our-cool-...|      34|     280|  direct|year_traditional_...|              []|\n",
      "| 631188|2024-06-12 17:26:39|https://our-cool-...|      70|     338|internal|quarter_custom_ki...| ['submit', 614]|\n",
      "| 808125|2024-11-26 19:01:47|https://our-cool-...|      45|     188|internal|quarter_tradition...|['submit', 5898]|\n",
      "| 326030|2024-11-15 16:05:19|https://our-cool-...|      49|     219|internal|year_modern_kitch...|              []|\n",
      "+-------+-------------------+--------------------+--------+--------+--------+--------------------+----------------+\n",
      "only showing top 20 rows\n",
      "\n"
     ]
    }
   ],
   "source": [
    "visits.show()"
   ]
  },
  {
   "cell_type": "code",
   "execution_count": 27,
   "id": "937b818a-3255-4f25-9fa2-81177bf21fff",
   "metadata": {},
   "outputs": [],
   "source": [
    "filtered_visits1 = (\n",
    "    visits\n",
    "    .withColumn('dt', F.date_format(F.col('visitDateTime'), 'yyyy-MM-dd'))\n",
    "    .where(F.col('dt').between('2024-01-01', '2025-01-27'))\n",
    "    .where(F.col('source').isin('ad', 'direct'))\n",
    "    .where(F.col('URL').rlike('.*checkout.*|.*add.*|.*home.*|.*contact.*|.*top50.*|.*customer-service.*|.*wishlist.*|.*sale.*|.*best-sellers.*|.*view.*|.*discount.*|.*featured.*|.*new-arrivals.*|.*settings.*|.*return-policy.*|.*edit.*|.*delete.*|.*reviews.*|.*products.*|.*about.*'))\n",
    "    .select(\n",
    "        'dt',\n",
    "        'visitid',\n",
    "        'clientID',\n",
    "        'URL',\n",
    "        'duration',\n",
    "        'source',\n",
    "        'UTMCampaign',\n",
    "        'params',\n",
    "        F.regexp_replace(F.col('params'), r'\\[|\\]', '').alias('params_regex')\n",
    "    )\n",
    "    .withColumn('params_split', F.split('params_regex', ', '))\n",
    ")"
   ]
  },
  {
   "cell_type": "code",
   "execution_count": 208,
   "id": "216f378c-afdc-4a88-9a69-5d97a9d63723",
   "metadata": {},
   "outputs": [
    {
     "name": "stdout",
     "output_type": "stream",
     "text": [
      "+----------+-------+--------+--------------------+--------+------+--------------------+----------------+--------------+----------------+\n",
      "|        dt|visitid|clientID|                 URL|duration|source|         UTMCampaign|          params|  params_regex|    params_split|\n",
      "+----------+-------+--------+--------------------+--------+------+--------------------+----------------+--------------+----------------+\n",
      "|2024-01-23| 720128|     289|https://our-cool-...|      80|    ad|month_openconcept...|              []|              |              []|\n",
      "|2024-06-16| 511300|     918|https://our-cool-...|      57|direct|month_openconcept...|['submit', 9928]|'submit', 9928|['submit', 9928]|\n",
      "|2024-05-25| 453192|     114|https://our-cool-...|      64|    ad|quarter_ecofriend...|              []|              |              []|\n",
      "|2024-12-03| 832703|     329|https://our-cool-...|      20|    ad|year_luxury_kitch...|              []|              |              []|\n",
      "|2024-03-25| 584988|     209|https://our-cool-...|      63|    ad|month_smart_kitch...|['submit', 6538]|'submit', 6538|['submit', 6538]|\n",
      "|2024-06-09| 654571|     719|https://our-cool-...|      84|    ad|month_contemporar...|              []|              |              []|\n",
      "|2024-03-09| 271155|     717|https://our-cool-...|      52|    ad|year_traditional_...|['submit', 4993]|'submit', 4993|['submit', 4993]|\n",
      "|2024-12-01| 505012|     725|https://our-cool-...|      62|    ad|month_contemporar...|              []|              |              []|\n",
      "|2024-04-20| 498077|     280|https://our-cool-...|      34|direct|year_traditional_...|              []|              |              []|\n",
      "|2024-02-12| 267059|     688|https://our-cool-...|      48|direct|month_openconcept...|              []|              |              []|\n",
      "|2024-05-17| 946915|     910|https://our-cool-...|      31|    ad|quarter_spacesavi...|['submit', 3805]|'submit', 3805|['submit', 3805]|\n",
      "|2024-05-12| 787280|     704|https://our-cool-...|      93|    ad|year_traditional_...|              []|              |              []|\n",
      "|2024-09-27| 789806|     418|https://our-cool-...|      76|    ad|year_traditional_...|['submit', 1473]|'submit', 1473|['submit', 1473]|\n",
      "|2024-05-30| 649340|     633|https://our-cool-...|      96|    ad|month_openconcept...|['submit', 1887]|'submit', 1887|['submit', 1887]|\n",
      "|2024-06-18| 520442|     390|https://our-cool-...|      23|    ad|year_luxury_kitch...|['submit', 8830]|'submit', 8830|['submit', 8830]|\n",
      "|2024-11-12| 721988|     712|https://our-cool-...|      87|direct|quarter_spacesavi...|['submit', 5130]|'submit', 5130|['submit', 5130]|\n",
      "|2024-12-17| 850563|     372|https://our-cool-...|      64|    ad|year_traditional_...|['submit', 6497]|'submit', 6497|['submit', 6497]|\n",
      "|2024-08-15| 970971|     338|https://our-cool-...|      41|    ad|month_smart_kitch...|['submit', 5663]|'submit', 5663|['submit', 5663]|\n",
      "|2024-10-30| 329267|     776|https://our-cool-...|       1|direct|quarter_custom_ki...|['submit', 3867]|'submit', 3867|['submit', 3867]|\n",
      "|2024-09-14| 735214|     763|https://our-cool-...|      33|direct|quarter_spacesavi...|['submit', 8525]|'submit', 8525|['submit', 8525]|\n",
      "+----------+-------+--------+--------------------+--------+------+--------------------+----------------+--------------+----------------+\n",
      "only showing top 20 rows\n",
      "\n"
     ]
    }
   ],
   "source": [
    "filtered_visits1.show()"
   ]
  },
  {
   "cell_type": "code",
   "execution_count": 17,
   "id": "6562d2d6-c4a4-4144-8ee4-07ca0c22d41f",
   "metadata": {},
   "outputs": [
    {
     "name": "stdout",
     "output_type": "stream",
     "text": [
      "root\n",
      " |-- dt: string (nullable = true)\n",
      " |-- visitid: long (nullable = true)\n",
      " |-- clientID: long (nullable = true)\n",
      " |-- URL: string (nullable = true)\n",
      " |-- duration: long (nullable = true)\n",
      " |-- source: string (nullable = true)\n",
      " |-- UTMCampaign: string (nullable = true)\n",
      " |-- params: string (nullable = true)\n",
      " |-- params_regex: string (nullable = true)\n",
      " |-- params_split: array (nullable = true)\n",
      " |    |-- element: string (containsNull = false)\n",
      "\n"
     ]
    }
   ],
   "source": [
    "filtered_visits1.printSchema()"
   ]
  },
  {
   "cell_type": "code",
   "execution_count": 28,
   "id": "b2db0bf0-e086-4bae-8d05-47d9960b7025",
   "metadata": {},
   "outputs": [],
   "source": [
    "filtered_visits2 = (filtered_visits1\n",
    "                        .withColumn('event_type', F.regexp_replace(F.col(\"params_split\")[0], \"'\", ''))\n",
    "                        .withColumn('event_id', F.col('params_split')[1].cast('int'))\n",
    "                   )\n",
    "                                "
   ]
  },
  {
   "cell_type": "code",
   "execution_count": 19,
   "id": "61852364-6b6c-47c1-9d39-375920b4887b",
   "metadata": {},
   "outputs": [
    {
     "name": "stdout",
     "output_type": "stream",
     "text": [
      "root\n",
      " |-- dt: string (nullable = true)\n",
      " |-- visitid: long (nullable = true)\n",
      " |-- clientID: long (nullable = true)\n",
      " |-- URL: string (nullable = true)\n",
      " |-- duration: long (nullable = true)\n",
      " |-- source: string (nullable = true)\n",
      " |-- UTMCampaign: string (nullable = true)\n",
      " |-- params: string (nullable = true)\n",
      " |-- params_regex: string (nullable = true)\n",
      " |-- params_split: array (nullable = true)\n",
      " |    |-- element: string (containsNull = false)\n",
      " |-- event_type: string (nullable = true)\n",
      " |-- event_id: integer (nullable = true)\n",
      "\n"
     ]
    }
   ],
   "source": [
    "filtered_visits2.printSchema()"
   ]
  },
  {
   "cell_type": "code",
   "execution_count": 29,
   "id": "822f0b32-19d6-4041-b5f6-d9170363baad",
   "metadata": {},
   "outputs": [],
   "source": [
    "visits_df = (\n",
    "    filtered_visits2\n",
    "    .where(F.col('event_type') == 'submit')\n",
    "    .select(\n",
    "        'dt',\n",
    "        F.col('visitid').cast('string').alias('visitid'),\n",
    "        F.col('clientID').cast('string').alias('clientid'),\n",
    "        'URL',\n",
    "        'duration',\n",
    "        'source',\n",
    "        'UTMCampaign',\n",
    "        'event_type',\n",
    "        'event_id'\n",
    "    )\n",
    "    .distinct()\n",
    ")"
   ]
  },
  {
   "cell_type": "code",
   "execution_count": 25,
   "id": "1f47e1eb-878f-422d-8a69-68864aa3ba68",
   "metadata": {},
   "outputs": [
    {
     "name": "stdout",
     "output_type": "stream",
     "text": [
      "-RECORD 0----------------------------------------------------\n",
      " dt          | 2024-07-16                                    \n",
      " visitid     | 294982                                        \n",
      " clientid    | 773                                           \n",
      " URL         | https://our-cool-website.com/customer-service \n",
      " duration    | 57                                            \n",
      " source      | direct                                        \n",
      " UTMCampaign | year_traditional_kitchens_launch_20240707     \n",
      " event_type  | submit                                        \n",
      " event_id    | 9620                                          \n",
      "only showing top 1 row\n",
      "\n"
     ]
    }
   ],
   "source": [
    "visits_df.show(1, truncate = False, vertical = True)"
   ]
  },
  {
   "cell_type": "code",
   "execution_count": 26,
   "id": "35e32225-96f1-4c10-ac94-2d9d6ac73576",
   "metadata": {},
   "outputs": [
    {
     "data": {
      "text/plain": [
       "2433"
      ]
     },
     "execution_count": 26,
     "metadata": {},
     "output_type": "execute_result"
    }
   ],
   "source": [
    "visits_df.count()"
   ]
  },
  {
   "cell_type": "code",
   "execution_count": 27,
   "id": "7b912890-265b-4e15-8429-3ca57cd94c54",
   "metadata": {},
   "outputs": [
    {
     "data": {
      "text/plain": [
       "10000"
      ]
     },
     "execution_count": 27,
     "metadata": {},
     "output_type": "execute_result"
    }
   ],
   "source": [
    "visits.count()"
   ]
  },
  {
   "cell_type": "markdown",
   "id": "c859305b-f081-4f4c-b222-bfb8508a0625",
   "metadata": {},
   "source": [
    "## 2. Расходы (postgres)"
   ]
  },
  {
   "cell_type": "markdown",
   "id": "74a95823-ff7b-4c79-9d9b-7638dd17ec66",
   "metadata": {},
   "source": [
    "Рассчитаю суммы расходов, кликов и просмотрам, сгруппированные по полю campaign_id"
   ]
  },
  {
   "cell_type": "code",
   "execution_count": 38,
   "id": "7333bb5d-2d94-4944-bfdc-2b699bca0a4a",
   "metadata": {},
   "outputs": [
    {
     "name": "stdout",
     "output_type": "stream",
     "text": [
      "+----------+-----------+------+------+-----+\n",
      "|      date|campaign_id| costs|clicks|views|\n",
      "+----------+-----------+------+------+-----+\n",
      "|2024-01-01|          1|670.52|    40|  110|\n",
      "+----------+-----------+------+------+-----+\n",
      "only showing top 1 row\n",
      "\n"
     ]
    }
   ],
   "source": [
    "costs.show(1)"
   ]
  },
  {
   "cell_type": "code",
   "execution_count": 30,
   "id": "00f817cb-15f8-48cf-8af8-eafaf9d8ac11",
   "metadata": {},
   "outputs": [],
   "source": [
    "costs_df = (\n",
    "    costs\n",
    "    .groupBy(\n",
    "        F.col('date').cast('string').alias('date'),\n",
    "        'campaign_id'\n",
    "    )\n",
    "    .agg(\n",
    "        F.sum(F.col('costs')).cast('decimal(19,2)').alias('costs'),\n",
    "        F.sum(F.col('clicks')).alias('clicks'),\n",
    "        F.sum(F.col('views')).alias('views')\n",
    "    )\n",
    ")"
   ]
  },
  {
   "cell_type": "code",
   "execution_count": 238,
   "id": "01718151-ecf0-4adf-8072-9163f84bdfd5",
   "metadata": {},
   "outputs": [
    {
     "name": "stdout",
     "output_type": "stream",
     "text": [
      "+----------+-----------+------+------+-----+\n",
      "|      date|campaign_id| costs|clicks|views|\n",
      "+----------+-----------+------+------+-----+\n",
      "|2024-01-05|         75|107.03|    26|  958|\n",
      "|2024-01-05|         97|408.51|    59|  292|\n",
      "+----------+-----------+------+------+-----+\n",
      "only showing top 2 rows\n",
      "\n"
     ]
    }
   ],
   "source": [
    "costs_df.show(2)"
   ]
  },
  {
   "cell_type": "code",
   "execution_count": 39,
   "id": "953f438b-008c-4483-bb35-778b2dc1dbeb",
   "metadata": {},
   "outputs": [
    {
     "name": "stdout",
     "output_type": "stream",
     "text": [
      "root\n",
      " |-- date: string (nullable = true)\n",
      " |-- campaign_id: integer (nullable = true)\n",
      " |-- costs: decimal(19,2) (nullable = true)\n",
      " |-- clicks: long (nullable = true)\n",
      " |-- views: long (nullable = true)\n",
      "\n"
     ]
    }
   ],
   "source": [
    "costs_df.printSchema()"
   ]
  },
  {
   "cell_type": "markdown",
   "id": "cf91487b-1942-4011-b6e2-24b408edd79b",
   "metadata": {},
   "source": [
    "## 3. Кампании (csv)"
   ]
  },
  {
   "cell_type": "code",
   "execution_count": 31,
   "id": "5a496472-5861-4538-9385-095745d5eea5",
   "metadata": {},
   "outputs": [
    {
     "name": "stdout",
     "output_type": "stream",
     "text": [
      "+-----------+------------------------------------------+\n",
      "|campaign_id|campaign_name                             |\n",
      "+-----------+------------------------------------------+\n",
      "|1          |year_modern_kitchen_launch_20250115       |\n",
      "|2          |quarter_custom_kitchens_showcase_20240210 |\n",
      "|3          |month_smart_kitchen_promotion_20240305    |\n",
      "|4          |year_luxury_kitchens_exhibit_20240420     |\n",
      "|5          |quarter_ecofriendly_kitchen_offer_20240512|\n",
      "+-----------+------------------------------------------+\n",
      "only showing top 5 rows\n",
      "\n"
     ]
    }
   ],
   "source": [
    "campaigns_dict.show(5, truncate=False)"
   ]
  },
  {
   "cell_type": "code",
   "execution_count": 46,
   "id": "fe3bf16c-a54b-4d8b-bbaf-134f2b86c3c2",
   "metadata": {},
   "outputs": [
    {
     "name": "stdout",
     "output_type": "stream",
     "text": [
      "root\n",
      " |-- campaign_id: integer (nullable = true)\n",
      " |-- campaign_name: string (nullable = true)\n",
      "\n"
     ]
    }
   ],
   "source": [
    "campaigns_dict.printSchema()"
   ]
  },
  {
   "cell_type": "code",
   "execution_count": 32,
   "id": "1bcda56f-e5a5-4d40-91c4-6bc3abd3ae22",
   "metadata": {},
   "outputs": [],
   "source": [
    "campaigns_df = (\n",
    "    campaigns_dict\n",
    "    .withColumn('campaign_id', F.col('campaign_id').cast('integer'))\n",
    "    .withColumn(\n",
    "        'campaign_duration',\n",
    "        F.when(F.col('campaign_name').like('year%'), 'Год')\n",
    "        .when(F.col('campaign_name').like('quarter%'), 'Квартал')\n",
    "        .when(F.col('campaign_name').like('month%'), ' Месяц')\n",
    "        .otherwise(None)\n",
    "    )\n",
    ")"
   ]
  },
  {
   "cell_type": "code",
   "execution_count": 51,
   "id": "3ebeb21b-ec53-49a4-9560-1c72d25442db",
   "metadata": {},
   "outputs": [
    {
     "name": "stdout",
     "output_type": "stream",
     "text": [
      "root\n",
      " |-- campaign_id: integer (nullable = true)\n",
      " |-- campaign_name: string (nullable = true)\n",
      " |-- campaign_duration: string (nullable = true)\n",
      "\n"
     ]
    }
   ],
   "source": [
    "campaigns_df.printSchema()"
   ]
  },
  {
   "cell_type": "markdown",
   "id": "0391b36d-58d3-46a2-93df-b9b05d98795e",
   "metadata": {},
   "source": [
    "## 4. Заявки (parquet)"
   ]
  },
  {
   "cell_type": "code",
   "execution_count": 56,
   "id": "d4208663-3b12-4d6e-9928-83696bc4c494",
   "metadata": {},
   "outputs": [
    {
     "name": "stdout",
     "output_type": "stream",
     "text": [
      "root\n",
      " |-- submit_id: long (nullable = true)\n",
      " |-- name: string (nullable = true)\n",
      " |-- phone: long (nullable = true)\n",
      "\n"
     ]
    }
   ],
   "source": [
    "submits.printSchema()"
   ]
  },
  {
   "cell_type": "code",
   "execution_count": 57,
   "id": "12c29ba0-1e72-498b-b199-35bad3c64e66",
   "metadata": {},
   "outputs": [
    {
     "name": "stdout",
     "output_type": "stream",
     "text": [
      "+---------+--------+-----------+\n",
      "|submit_id|    name|      phone|\n",
      "+---------+--------+-----------+\n",
      "|     2282|Jennifer|79511904041|\n",
      "+---------+--------+-----------+\n",
      "only showing top 1 row\n",
      "\n"
     ]
    }
   ],
   "source": [
    "submits.show(1)"
   ]
  },
  {
   "cell_type": "code",
   "execution_count": 33,
   "id": "2ac5cb07-5511-47eb-8eae-3d2e417bae72",
   "metadata": {},
   "outputs": [],
   "source": [
    "submits_df = (\n",
    "    submits\n",
    "    .withColumn('phone', F.col('phone').cast('string'))\n",
    "    .withColumn('phone_plus', F.concat(F.lit('+'), F.col('phone')))\n",
    "    .withColumn('phone_md5', F.md5('phone'))\n",
    "    .withColumn('phone_plus_md5', F.md5('phone_plus'))\n",
    ")"
   ]
  },
  {
   "cell_type": "code",
   "execution_count": 57,
   "id": "d4cc8f31-e74f-4b2f-a387-eb2a8692235c",
   "metadata": {},
   "outputs": [
    {
     "name": "stdout",
     "output_type": "stream",
     "text": [
      "-RECORD 0------------------------------------------\n",
      " submit_id      | 2282                             \n",
      " name           | Jennifer                         \n",
      " phone          | 79511904041                      \n",
      " phone_plus     | +79511904041                     \n",
      " phone_md5      | 4c7720fdf6f9eec623dc0f961f31f488 \n",
      " phone_plus_md5 | 6ce81d5347bcd3eadb2921b7c4828e3b \n",
      "-RECORD 1------------------------------------------\n",
      " submit_id      | 9898                             \n",
      " name           | Jeffrey                          \n",
      " phone          | 79824419733                      \n",
      " phone_plus     | +79824419733                     \n",
      " phone_md5      | 9d106e45036bd4176774eb94adc9aacc \n",
      " phone_plus_md5 | 43630233dcc965f9827e394038b0321a \n",
      "only showing top 2 rows\n",
      "\n"
     ]
    }
   ],
   "source": [
    "submits_df.show(2, truncate = False, vertical = True)"
   ]
  },
  {
   "cell_type": "code",
   "execution_count": 61,
   "id": "245aea65-dfb8-462c-bf7d-be111f9c58a5",
   "metadata": {},
   "outputs": [
    {
     "name": "stdout",
     "output_type": "stream",
     "text": [
      "root\n",
      " |-- submit_id: long (nullable = true)\n",
      " |-- name: string (nullable = true)\n",
      " |-- phone: string (nullable = true)\n",
      " |-- phone_plus: string (nullable = true)\n",
      " |-- phone_md5: string (nullable = true)\n",
      " |-- phone_plus_md5: string (nullable = true)\n",
      "\n"
     ]
    }
   ],
   "source": [
    "submits_df.printSchema()"
   ]
  },
  {
   "cell_type": "markdown",
   "id": "6c117b3b-3908-4a87-9298-8edf6b28e120",
   "metadata": {},
   "source": [
    "## 5. Сделки (parquet)"
   ]
  },
  {
   "cell_type": "code",
   "execution_count": 65,
   "id": "b542aa51-807d-4709-9ade-f4f06d9bc909",
   "metadata": {},
   "outputs": [
    {
     "name": "stdout",
     "output_type": "stream",
     "text": [
      "root\n",
      " |-- deal_id: long (nullable = true)\n",
      " |-- deal_date: string (nullable = true)\n",
      " |-- fio: string (nullable = true)\n",
      " |-- phone: long (nullable = true)\n",
      " |-- email: string (nullable = true)\n",
      " |-- address: string (nullable = true)\n",
      "\n"
     ]
    }
   ],
   "source": [
    "deals.printSchema()"
   ]
  },
  {
   "cell_type": "code",
   "execution_count": 36,
   "id": "73ec6266-5cd2-4191-99ca-a0d9e81210c0",
   "metadata": {},
   "outputs": [],
   "source": [
    "deals_df = (\n",
    "    deals\n",
    "    .withColumn('username', F.split(F.col('email'), '@').getItem(0))\n",
    "    .withColumn('domain', F.split(F.col('email'), '@').getItem(1))\n",
    "    .where(F.col('domain').isin('example.com', 'example.org', 'example.net'))\n",
    "    .withColumn('phone', F.col('phone').cast('string'))\n",
    ")\n"
   ]
  },
  {
   "cell_type": "code",
   "execution_count": 58,
   "id": "d4498ab8-ff44-45ba-96fa-bb9704d8134e",
   "metadata": {},
   "outputs": [
    {
     "name": "stdout",
     "output_type": "stream",
     "text": [
      "-RECORD 0-------------------------\n",
      " deal_id   | 1                    \n",
      " deal_date | 2024-03-04           \n",
      " fio       | Gregory Wu           \n",
      " phone     | 79746561889          \n",
      " email     | paul80@example.net   \n",
      " address   | 098 Yates Cliff A... \n",
      " username  | paul80               \n",
      " domain    | example.net          \n",
      "only showing top 1 row\n",
      "\n"
     ]
    }
   ],
   "source": [
    "deals_df.show(1, vertical = True)"
   ]
  },
  {
   "cell_type": "code",
   "execution_count": 69,
   "id": "01a3fd24-a8e0-4e07-be46-7e9e65bbddc6",
   "metadata": {},
   "outputs": [
    {
     "name": "stdout",
     "output_type": "stream",
     "text": [
      "root\n",
      " |-- deal_id: long (nullable = true)\n",
      " |-- deal_date: string (nullable = true)\n",
      " |-- fio: string (nullable = true)\n",
      " |-- phone: string (nullable = true)\n",
      " |-- email: string (nullable = true)\n",
      " |-- address: string (nullable = true)\n",
      " |-- username: string (nullable = true)\n",
      " |-- domain: string (nullable = true)\n",
      "\n"
     ]
    }
   ],
   "source": [
    "deals_df.printSchema()"
   ]
  },
  {
   "cell_type": "markdown",
   "id": "709921f6-2044-4d2c-8b4a-4a17b5d1d2eb",
   "metadata": {},
   "source": [
    "# Сборка витрины"
   ]
  },
  {
   "cell_type": "markdown",
   "id": "cb338ed7-3c2e-4a56-a052-e594093e762b",
   "metadata": {},
   "source": [
    "Сборка витрины по концепции \"One Big Table\""
   ]
  },
  {
   "cell_type": "code",
   "execution_count": 60,
   "id": "23ab97af-a4be-4d36-a280-2e6bf8e7e0b5",
   "metadata": {},
   "outputs": [],
   "source": [
    "customer_detailed = (\n",
    "    visits_df.alias('v')\n",
    "    .join(\n",
    "        submits_df.alias('s'),\n",
    "        F.col('v.event_id') == F.col('s.submit_id'),\n",
    "        'left'\n",
    "    )\n",
    "    .join(\n",
    "        deals_df.alias('d'),\n",
    "        (F.col('s.phone') == F.col('d.phone')) &\n",
    "        (F.col('v.dt') <= F.col('d.deal_date')),\n",
    "        'left'\n",
    "    )\n",
    "    .join(\n",
    "        campaigns_df.alias('camp'),\n",
    "        F.col('v.utmcampaign') == F.col('camp.campaign_name'),\n",
    "        'left'\n",
    "    )\n",
    "    .join(\n",
    "        costs_df.alias('c'),\n",
    "        (F.col('camp.campaign_id') == F.col('c.campaign_id')) &\n",
    "        (F.col('v.dt') == F.col('c.date')),\n",
    "        'left'\n",
    "    )\n",
    "    .select(\n",
    "        'v.dt',\n",
    "        F.col('v.visitid').alias('visit_id'),\n",
    "        F.col('v.clientid').alias('client_id'),\n",
    "        'v.url',\n",
    "        'v.duration',\n",
    "        'v.source',\n",
    "        'v.utmcampaign',\n",
    "        'v.event_type',\n",
    "        'v.event_id',\n",
    "        's.submit_id',\n",
    "        's.name',\n",
    "        's.phone',\n",
    "        's.phone_plus',\n",
    "        's.phone_md5',\n",
    "        's.phone_plus_md5',\n",
    "        'd.deal_id',\n",
    "        'd.deal_date',\n",
    "        'd.fio',\n",
    "        F.col('d.phone').alias('phone_deal'),\n",
    "        'd.email',\n",
    "        'd.address',\n",
    "        'd.username',\n",
    "        'd.domain',\n",
    "        'camp.campaign_name',\n",
    "        'camp.campaign_duration',\n",
    "        'c.costs',\n",
    "        'c.clicks',\n",
    "        'c.views'\n",
    "    )\n",
    ")"
   ]
  },
  {
   "cell_type": "code",
   "execution_count": 62,
   "id": "b6ad70c6-166e-439c-80cf-4c70666aaf73",
   "metadata": {},
   "outputs": [
    {
     "name": "stdout",
     "output_type": "stream",
     "text": [
      "-RECORD 0---------------------------------\n",
      " dt                | 2024-09-26           \n",
      " visit_id          | 792167               \n",
      " client_id         | 565                  \n",
      " url               | https://our-cool-... \n",
      " duration          | 33                   \n",
      " source            | ad                   \n",
      " utmcampaign       | month_spacesaving... \n",
      " event_type        | submit               \n",
      " event_id          | 950                  \n",
      " submit_id         | 950                  \n",
      " name              | Timothy              \n",
      " phone             | 79084194784          \n",
      " phone_plus        | +79084194784         \n",
      " phone_md5         | d43cb569ec9765f04... \n",
      " phone_plus_md5    | 0e70d155bbd56e508... \n",
      " deal_id           | NULL                 \n",
      " deal_date         | NULL                 \n",
      " fio               | NULL                 \n",
      " phone_deal        | NULL                 \n",
      " email             | NULL                 \n",
      " address           | NULL                 \n",
      " username          | NULL                 \n",
      " domain            | NULL                 \n",
      " campaign_name     | month_spacesaving... \n",
      " campaign_duration |  Месяц               \n",
      " costs             | 27.86                \n",
      " clicks            | 83                   \n",
      " views             | 496                  \n",
      "only showing top 1 row\n",
      "\n"
     ]
    }
   ],
   "source": [
    "customer_detailed.show(1, vertical = True)"
   ]
  },
  {
   "cell_type": "code",
   "execution_count": null,
   "id": "b6d16de5-3332-40fc-8c49-92f665a95f50",
   "metadata": {},
   "outputs": [],
   "source": [
    "customer_detailed.show(1, vertical = True)"
   ]
  },
  {
   "cell_type": "code",
   "execution_count": 75,
   "id": "52ed8ee3-1518-4df2-846f-83a68959a28e",
   "metadata": {},
   "outputs": [
    {
     "name": "stdout",
     "output_type": "stream",
     "text": [
      "root\n",
      " |-- dt: string (nullable = true)\n",
      " |-- visit_id: string (nullable = true)\n",
      " |-- client_id: string (nullable = true)\n",
      " |-- url: string (nullable = true)\n",
      " |-- duration: long (nullable = true)\n",
      " |-- source: string (nullable = true)\n",
      " |-- utmcampaign: string (nullable = true)\n",
      " |-- event_type: string (nullable = true)\n",
      " |-- event_id: integer (nullable = true)\n",
      " |-- submit_id: long (nullable = true)\n",
      " |-- name: string (nullable = true)\n",
      " |-- phone: string (nullable = true)\n",
      " |-- phone_plus: string (nullable = true)\n",
      " |-- phone_md5: string (nullable = true)\n",
      " |-- phone_plus_md5: string (nullable = true)\n",
      " |-- deal_id: long (nullable = true)\n",
      " |-- deal_date: string (nullable = true)\n",
      " |-- fio: string (nullable = true)\n",
      " |-- phone_deal: string (nullable = true)\n",
      " |-- email: string (nullable = true)\n",
      " |-- address: string (nullable = true)\n",
      " |-- username: string (nullable = true)\n",
      " |-- domain: string (nullable = true)\n",
      " |-- campaign_name: string (nullable = true)\n",
      " |-- campaign_duration: string (nullable = true)\n",
      " |-- costs: decimal(19,2) (nullable = true)\n",
      " |-- clicks: long (nullable = true)\n",
      " |-- views: long (nullable = true)\n",
      "\n"
     ]
    }
   ],
   "source": [
    "customer_detailed.printSchema()"
   ]
  },
  {
   "cell_type": "code",
   "execution_count": 76,
   "id": "a4012f60-f348-4238-8249-22b2752c68b4",
   "metadata": {},
   "outputs": [
    {
     "data": {
      "text/plain": [
       "28"
      ]
     },
     "execution_count": 76,
     "metadata": {},
     "output_type": "execute_result"
    }
   ],
   "source": [
    "len(customer_detailed.columns)"
   ]
  },
  {
   "cell_type": "markdown",
   "id": "2956a2b1-57e8-40db-9a26-9aea1e4f4abf",
   "metadata": {},
   "source": [
    "т.к будет использовать эту витрину дважды, закэшируем эту витрину"
   ]
  },
  {
   "cell_type": "code",
   "execution_count": 77,
   "id": "6ec21173-8e05-4b2e-ae24-7c6ac18e32d2",
   "metadata": {},
   "outputs": [
    {
     "data": {
      "text/plain": [
       "DataFrame[dt: string, visit_id: string, client_id: string, url: string, duration: bigint, source: string, utmcampaign: string, event_type: string, event_id: int, submit_id: bigint, name: string, phone: string, phone_plus: string, phone_md5: string, phone_plus_md5: string, deal_id: bigint, deal_date: string, fio: string, phone_deal: string, email: string, address: string, username: string, domain: string, campaign_name: string, campaign_duration: string, costs: decimal(19,2), clicks: bigint, views: bigint]"
      ]
     },
     "execution_count": 77,
     "metadata": {},
     "output_type": "execute_result"
    }
   ],
   "source": [
    "customer_detailed.cache()"
   ]
  },
  {
   "cell_type": "code",
   "execution_count": 78,
   "id": "05ffe570-63b3-414d-8c36-c61d35bce86a",
   "metadata": {},
   "outputs": [
    {
     "data": {
      "text/plain": [
       "2639"
      ]
     },
     "execution_count": 78,
     "metadata": {},
     "output_type": "execute_result"
    }
   ],
   "source": [
    "customer_detailed.count()"
   ]
  },
  {
   "cell_type": "code",
   "execution_count": 63,
   "id": "5f7cc9ff-a90e-455e-8f20-05b9c541b0dc",
   "metadata": {},
   "outputs": [],
   "source": [
    "campaigns_agg = (\n",
    "    customer_detailed\n",
    "    .groupBy('campaign_name')\n",
    "    .agg(\n",
    "        F.countDistinct('visit_id').alias('unique_visits'),\n",
    "        F.countDistinct('client_id').alias('unique_clients'),\n",
    "        F.countDistinct('submit_id').alias('unique_submits'),\n",
    "        F.countDistinct('deal_id').alias('unique_deals'),\n",
    "        F.sum('costs').alias('total_costs'),\n",
    "        F.sum('clicks').alias('total_clicks'),\n",
    "        F.sum('views').alias('total_views'),\n",
    "        F.sum('duration').alias('total_duration')\n",
    "    )\n",
    "    .withColumn('avg_deal_cost', (F.col('total_costs') / F.col('unique_deals')).cast('decimal(19,2)')\n",
    "                                   \n",
    "\n",
    ")\n",
    ")"
   ]
  },
  {
   "cell_type": "code",
   "execution_count": 65,
   "id": "008610ce-da97-4786-b8f8-6987302f53ae",
   "metadata": {},
   "outputs": [
    {
     "name": "stdout",
     "output_type": "stream",
     "text": [
      "-RECORD 0---------------------------------------------------------\n",
      " campaign_name  | year_traditional_kitchens_demo_20240725         \n",
      " unique_visits  | 22                                              \n",
      " unique_clients | 21                                              \n",
      " unique_submits | 5                                               \n",
      " unique_deals   | 1                                               \n",
      " total_costs    | 11446.75                                        \n",
      " total_clicks   | 1441                                            \n",
      " total_views    | 14004                                           \n",
      " total_duration | 1100                                            \n",
      " avg_deal_cost  | 11446.75                                        \n",
      "-RECORD 1---------------------------------------------------------\n",
      " campaign_name  | month_smart_kitchens_exhibit_20240625           \n",
      " unique_visits  | 20                                              \n",
      " unique_clients | 20                                              \n",
      " unique_submits | 10                                              \n",
      " unique_deals   | 3                                               \n",
      " total_costs    | 13009.71                                        \n",
      " total_clicks   | 1001                                            \n",
      " total_views    | 12097                                           \n",
      " total_duration | 1030                                            \n",
      " avg_deal_cost  | 4336.57                                         \n",
      "-RECORD 2---------------------------------------------------------\n",
      " campaign_name  | year_modern_kitchen_experience_20240702         \n",
      " unique_visits  | 13                                              \n",
      " unique_clients | 13                                              \n",
      " unique_submits | 4                                               \n",
      " unique_deals   | 5                                               \n",
      " total_costs    | 8528.47                                         \n",
      " total_clicks   | 741                                             \n",
      " total_views    | 6076                                            \n",
      " total_duration | 706                                             \n",
      " avg_deal_cost  | 1705.69                                         \n",
      "-RECORD 3---------------------------------------------------------\n",
      " campaign_name  | quarter_spacesaving_kitchen_experience_20240521 \n",
      " unique_visits  | 26                                              \n",
      " unique_clients | 26                                              \n",
      " unique_submits | 7                                               \n",
      " unique_deals   | 3                                               \n",
      " total_costs    | 12236.86                                        \n",
      " total_clicks   | 1456                                            \n",
      " total_views    | 15778                                           \n",
      " total_duration | 1221                                            \n",
      " avg_deal_cost  | 4078.95                                         \n",
      "-RECORD 4---------------------------------------------------------\n",
      " campaign_name  | quarter_custom_kitchen_initiative_20241102      \n",
      " unique_visits  | 29                                              \n",
      " unique_clients | 29                                              \n",
      " unique_submits | 13                                              \n",
      " unique_deals   | 8                                               \n",
      " total_costs    | 16944.70                                        \n",
      " total_clicks   | 1626                                            \n",
      " total_views    | 17292                                           \n",
      " total_duration | 1424                                            \n",
      " avg_deal_cost  | 2118.09                                         \n",
      "only showing top 5 rows\n",
      "\n"
     ]
    }
   ],
   "source": [
    "campaigns_agg.filter(F.col('total_costs').isNotNull() ).show(5, truncate = False, vertical = True)"
   ]
  },
  {
   "cell_type": "code",
   "execution_count": 68,
   "id": "ee043f7a-58d8-420d-8e8d-7183d50ffef2",
   "metadata": {},
   "outputs": [],
   "source": [
    "dates_agg = (\n",
    "    customer_detailed\n",
    "    .groupBy(F.substring('dt', 1, 7).alias('month'))\n",
    "    .agg(\n",
    "        F.countDistinct('visit_id').alias('unique_visits'),\n",
    "        F.countDistinct('client_id').alias('unique_clients'),\n",
    "        F.countDistinct('submit_id').alias('unique_submits'),\n",
    "        F.countDistinct('deal_id').alias('unique_deals'),\n",
    "        F.sum('costs').alias('total_costs'),\n",
    "        F.sum('clicks').alias('total_clicks'),\n",
    "        F.sum('views').alias('total_views'),\n",
    "        F.sum('duration').alias('total_duration')\n",
    "    )\n",
    "    .withColumn('avg_deal_cost', (F.col('total_costs')/F.col('unique_deals')).cast('decimal(19,2)'))\n",
    ")\n"
   ]
  },
  {
   "cell_type": "code",
   "execution_count": 70,
   "id": "b4a40319-7166-441f-8e10-6a39e64477ea",
   "metadata": {},
   "outputs": [
    {
     "name": "stdout",
     "output_type": "stream",
     "text": [
      "-RECORD 0-------------------\n",
      " month          | 2024-09   \n",
      " unique_visits  | 191       \n",
      " unique_clients | 168       \n",
      " unique_submits | 67        \n",
      " unique_deals   | 15        \n",
      " total_costs    | 100807.61 \n",
      " total_clicks   | 10091     \n",
      " total_views    | 102230    \n",
      " total_duration | 10225     \n",
      " avg_deal_cost  | 6720.51   \n",
      "only showing top 1 row\n",
      "\n"
     ]
    }
   ],
   "source": [
    "dates_agg.show(1, vertical = True)"
   ]
  },
  {
   "cell_type": "code",
   "execution_count": 71,
   "id": "b38d26bd-a7c6-4f64-b7f3-28a2253b5980",
   "metadata": {},
   "outputs": [
    {
     "data": {
      "text/plain": [
       "13"
      ]
     },
     "execution_count": 71,
     "metadata": {},
     "output_type": "execute_result"
    }
   ],
   "source": [
    "dates_agg.cache().count()"
   ]
  },
  {
   "cell_type": "code",
   "execution_count": 73,
   "id": "b3b24750-01be-480f-8e55-5a88419efb33",
   "metadata": {},
   "outputs": [],
   "source": [
    "def save_to_postgres(df, table_name):\n",
    "    (\n",
    "        df.write\n",
    "        .format('jdbc')\n",
    "        .option('url', f'jdbc:postgresql://{pg_host}:{pg_port}/{pg_db}')\n",
    "        .option('dbtable', table_name)\n",
    "        .option('user', pg_user)\n",
    "        .option('password', pg_password)\n",
    "        .option('driver', 'org.postgresql.Driver')\n",
    "        .mode(\"overwrite\")\n",
    "        .save()\n",
    "    )"
   ]
  },
  {
   "cell_type": "code",
   "execution_count": 75,
   "id": "8758f5cc-13b2-4553-90a8-b48c1d65d64a",
   "metadata": {},
   "outputs": [
    {
     "data": {
      "text/plain": [
       "'webinar'"
      ]
     },
     "execution_count": 75,
     "metadata": {},
     "output_type": "execute_result"
    }
   ],
   "source": [
    "pg_db"
   ]
  },
  {
   "cell_type": "code",
   "execution_count": null,
   "id": "622f70e0-2189-4c9e-9199-01866c63ec5b",
   "metadata": {},
   "outputs": [],
   "source": [
    "Сохраним витрину данных в Postresql"
   ]
  },
  {
   "cell_type": "code",
   "execution_count": 74,
   "id": "d40c8943-0252-4d66-9c32-aaa89d910fcc",
   "metadata": {},
   "outputs": [],
   "source": [
    "save_to_postgres(customer_detailed, 'customer_detailed')"
   ]
  },
  {
   "cell_type": "code",
   "execution_count": 76,
   "id": "702ecdfe-3334-4e0d-8fb5-77ed3059721a",
   "metadata": {},
   "outputs": [],
   "source": [
    "save_to_postgres(campaigns_agg, 'campaigns_agg')"
   ]
  },
  {
   "cell_type": "code",
   "execution_count": 77,
   "id": "1ee188c9-49d6-46b7-8dad-735553a514ab",
   "metadata": {},
   "outputs": [],
   "source": [
    "save_to_postgres(dates_agg, 'dates_agg')"
   ]
  },
  {
   "cell_type": "markdown",
   "id": "e0426456-46bb-4446-aec3-1f28da8fe4b3",
   "metadata": {},
   "source": [
    "# Расчет метрик и анализ полученных данных"
   ]
  },
  {
   "cell_type": "markdown",
   "id": "65ea851a-3bef-496c-bfb4-587ab3e4fcb3",
   "metadata": {},
   "source": [
    "## 1. Кампании без выручки"
   ]
  },
  {
   "cell_type": "code",
   "execution_count": 80,
   "id": "d4421df3-3d8d-40b7-9e69-26546791c7e9",
   "metadata": {},
   "outputs": [
    {
     "name": "stdout",
     "output_type": "stream",
     "text": [
      "+-----------------------------------------------+-----------+------------+\n",
      "|campaign_name                                  |total_costs|unique_deals|\n",
      "+-----------------------------------------------+-----------+------------+\n",
      "|month_smart_kitchens_launch_20240330           |7417.29    |0           |\n",
      "|quarter_custom_kitchens_showcase_20240210      |8397.63    |0           |\n",
      "|month_contemporary_kitchens_event_20241208     |9077.02    |0           |\n",
      "|month_contemporary_kitchens_event_20240920     |10256.14   |0           |\n",
      "|month_ecofriendly_kitchens_experience_20241219 |10682.85   |0           |\n",
      "|quarter_ecofriendly_kitchen_experience_20241119|10999.04   |0           |\n",
      "|month_smart_kitchen_promotion_20240305         |11430.88   |0           |\n",
      "|year_traditional_kitchens_showcase_20241018    |12105.87   |0           |\n",
      "|year_modern_kitchens_demo_20240419             |12427.38   |0           |\n",
      "|month_openconcept_kitchens_initiative_20240328 |13187.82   |0           |\n",
      "|quarter_luxury_kitchens_innovation_20241116    |13405.47   |0           |\n",
      "|month_openconcept_kitchens_experience_20240910 |14837.06   |0           |\n",
      "|quarter_custom_kitchens_experience_20240527    |15732.40   |0           |\n",
      "+-----------------------------------------------+-----------+------------+\n",
      "\n"
     ]
    }
   ],
   "source": [
    "(\n",
    "campaigns_agg\n",
    ".where('unique_deals = 0')\n",
    ".select('campaign_name', 'total_costs', 'unique_deals')\n",
    ".sort('total_costs')\n",
    ".show(truncate=False)\n",
    ")         "
   ]
  },
  {
   "cell_type": "markdown",
   "id": "ba970cd1-8186-4d42-b7ad-30b705509e2f",
   "metadata": {},
   "source": [
    "Найдем сколько всего таких кампаний и сколько денег было потрачено на них"
   ]
  },
  {
   "cell_type": "code",
   "execution_count": 82,
   "id": "c211ad0f-3cf3-4972-9f51-af2dfb549003",
   "metadata": {},
   "outputs": [
    {
     "name": "stdout",
     "output_type": "stream",
     "text": [
      "+-----------------------------+----------------+\n",
      "|count(DISTINCT campaign_name)|sum(total_costs)|\n",
      "+-----------------------------+----------------+\n",
      "|                           13|       149956.85|\n",
      "+-----------------------------+----------------+\n",
      "\n"
     ]
    }
   ],
   "source": [
    "(\n",
    "    campaigns_agg\n",
    "    .where('unique_deals = 0')\n",
    "    .select(F.countDistinct('campaign_name'), F.sum('total_costs'))\n",
    "    .show()\n",
    ")"
   ]
  },
  {
   "cell_type": "markdown",
   "id": "8caf02ab-7e1a-426c-ae9b-3453f7ceecd2",
   "metadata": {},
   "source": [
    "## 2. Средняя цена сделки"
   ]
  },
  {
   "cell_type": "markdown",
   "id": "f89d6f9e-3f2a-47d4-9c0f-ceca7932deb1",
   "metadata": {},
   "source": [
    "Посмотрим распределениее кампаний по средней цене сделки. Сортировка по убыванию"
   ]
  },
  {
   "cell_type": "code",
   "execution_count": 85,
   "id": "42fa6081-d4a9-4e8a-a117-b768f8e51aa5",
   "metadata": {},
   "outputs": [
    {
     "name": "stdout",
     "output_type": "stream",
     "text": [
      "+-----------------------------------------------+-----------+------------+-------------+\n",
      "|campaign_name                                  |total_costs|unique_deals|avg_deal_cost|\n",
      "+-----------------------------------------------+-----------+------------+-------------+\n",
      "|quarter_spacesaving_kitchen_innovation_20240825|16861.94   |1           |16861.94     |\n",
      "|month_contemporary_kitchen_showcase_20240630   |15880.89   |1           |15880.89     |\n",
      "|quarter_custom_kitchen_show_20240213           |15874.75   |1           |15874.75     |\n",
      "|year_luxury_kitchens_show_20241001             |14752.07   |1           |14752.07     |\n",
      "|quarter_spacesaving_kitchen_showcase_20240228  |14382.19   |1           |14382.19     |\n",
      "|month_custom_kitchens_show_20241205            |13947.35   |1           |13947.35     |\n",
      "|year_traditional_kitchens_launch_20240707      |13857.96   |1           |13857.96     |\n",
      "|year_traditional_kitchens_experience_20240715  |12925.29   |1           |12925.29     |\n",
      "|quarter_spacesaving_kitchen_innovation_20241103|12503.80   |1           |12503.80     |\n",
      "|year_traditional_kitchens_initiative_20250105  |12073.25   |1           |12073.25     |\n",
      "|month_smart_kitchens_event_20240614            |11721.06   |1           |11721.06     |\n",
      "|year_luxury_kitchens_fair_20240716             |11566.59   |1           |11566.59     |\n",
      "|year_traditional_kitchens_demo_20240725        |11446.75   |1           |11446.75     |\n",
      "|month_contemporary_kitchen_launch_20240322     |11377.24   |1           |11377.24     |\n",
      "|month_smart_kitchens_launch_20240905           |11311.87   |1           |11311.87     |\n",
      "|quarter_ecofriendly_kitchen_show_20240530      |11177.11   |1           |11177.11     |\n",
      "|year_luxury_kitchens_exhibit_20240420          |11036.12   |1           |11036.12     |\n",
      "|quarter_ecofriendly_kitchens_showcase_20240823 |10576.01   |1           |10576.01     |\n",
      "|month_openconcept_kitchens_event_20240618      |10021.65   |1           |10021.65     |\n",
      "|quarter_ecofriendly_kitchens_launch_20240205   |17723.31   |2           |8861.66      |\n",
      "+-----------------------------------------------+-----------+------------+-------------+\n",
      "only showing top 20 rows\n",
      "\n"
     ]
    }
   ],
   "source": [
    "(\n",
    "    campaigns_agg\n",
    "    .where('unique_deals > 0')\n",
    "    .select('campaign_name', 'total_costs', 'unique_deals', 'avg_deal_cost')\n",
    "    .sort('avg_deal_cost', ascending = False)\n",
    "    .show(truncate = False)\n",
    ")"
   ]
  },
  {
   "cell_type": "markdown",
   "id": "73a8d26f-e8a5-4294-81ef-7dd2f6f1f847",
   "metadata": {},
   "source": [
    "## 3.Убыточные кампании, при допущении что каждая сделка стоит 5000"
   ]
  },
  {
   "cell_type": "code",
   "execution_count": 88,
   "id": "23da2949-f8e4-4cc9-9679-451faf9ded1b",
   "metadata": {},
   "outputs": [
    {
     "name": "stdout",
     "output_type": "stream",
     "text": [
      "+-----------------------------------------------+-----------+------------+-------------+-------+---------+\n",
      "|campaign_name                                  |total_costs|unique_deals|avg_deal_cost|revenue|profit   |\n",
      "+-----------------------------------------------+-----------+------------+-------------+-------+---------+\n",
      "|quarter_custom_kitchens_experience_20240527    |15732.40   |0           |NULL         |0      |-15732.40|\n",
      "|month_openconcept_kitchens_experience_20240910 |14837.06   |0           |NULL         |0      |-14837.06|\n",
      "|quarter_luxury_kitchens_innovation_20241116    |13405.47   |0           |NULL         |0      |-13405.47|\n",
      "|month_openconcept_kitchens_initiative_20240328 |13187.82   |0           |NULL         |0      |-13187.82|\n",
      "|year_modern_kitchens_demo_20240419             |12427.38   |0           |NULL         |0      |-12427.38|\n",
      "|year_traditional_kitchens_showcase_20241018    |12105.87   |0           |NULL         |0      |-12105.87|\n",
      "|quarter_spacesaving_kitchen_innovation_20240825|16861.94   |1           |16861.94     |5000   |-11861.94|\n",
      "|month_smart_kitchen_promotion_20240305         |11430.88   |0           |NULL         |0      |-11430.88|\n",
      "|quarter_ecofriendly_kitchen_experience_20241119|10999.04   |0           |NULL         |0      |-10999.04|\n",
      "|month_contemporary_kitchen_showcase_20240630   |15880.89   |1           |15880.89     |5000   |-10880.89|\n",
      "|quarter_custom_kitchen_show_20240213           |15874.75   |1           |15874.75     |5000   |-10874.75|\n",
      "|month_ecofriendly_kitchens_experience_20241219 |10682.85   |0           |NULL         |0      |-10682.85|\n",
      "|month_contemporary_kitchens_event_20240920     |10256.14   |0           |NULL         |0      |-10256.14|\n",
      "|year_luxury_kitchens_show_20241001             |14752.07   |1           |14752.07     |5000   |-9752.07 |\n",
      "|quarter_spacesaving_kitchen_showcase_20240228  |14382.19   |1           |14382.19     |5000   |-9382.19 |\n",
      "|month_contemporary_kitchens_event_20241208     |9077.02    |0           |NULL         |0      |-9077.02 |\n",
      "|month_custom_kitchens_show_20241205            |13947.35   |1           |13947.35     |5000   |-8947.35 |\n",
      "|year_traditional_kitchens_launch_20240707      |13857.96   |1           |13857.96     |5000   |-8857.96 |\n",
      "|quarter_custom_kitchens_showcase_20240210      |8397.63    |0           |NULL         |0      |-8397.63 |\n",
      "|year_traditional_kitchens_experience_20240715  |12925.29   |1           |12925.29     |5000   |-7925.29 |\n",
      "+-----------------------------------------------+-----------+------------+-------------+-------+---------+\n",
      "only showing top 20 rows\n",
      "\n"
     ]
    }
   ],
   "source": [
    "(\n",
    "    campaigns_agg\n",
    "    .select('campaign_name', 'total_costs', 'unique_deals', 'avg_deal_cost')\n",
    "    .withColumn('revenue', F.col('unique_deals')*F.lit(5000))\n",
    "    .withColumn('profit', F.col('revenue') - F.col('total_costs'))\n",
    "    .sort('profit')\n",
    "    .show(truncate=False)\n",
    ")"
   ]
  },
  {
   "cell_type": "markdown",
   "id": "9c59c405-2407-40a1-8977-05c95d1371c2",
   "metadata": {},
   "source": [
    "## 4. Топ прибыльных кампаний, при допущении что каждая сделака стоит 5000"
   ]
  },
  {
   "cell_type": "code",
   "execution_count": 89,
   "id": "c5efad24-6217-47a9-ba7d-4c232ad4c50b",
   "metadata": {},
   "outputs": [
    {
     "name": "stdout",
     "output_type": "stream",
     "text": [
      "+------------------------------------------------+-----------+------------+-------------+-------+--------+\n",
      "|campaign_name                                   |total_costs|unique_deals|avg_deal_cost|revenue|profit  |\n",
      "+------------------------------------------------+-----------+------------+-------------+-------+--------+\n",
      "|quarter_custom_kitchens_innovation_20240817     |15356.76   |10          |1535.68      |50000  |34643.24|\n",
      "|quarter_custom_kitchens_experience_20240222     |16131.74   |9           |1792.42      |45000  |28868.26|\n",
      "|year_modern_kitchens_showcase_20241014          |11705.53   |8           |1463.19      |40000  |28294.47|\n",
      "|month_contemporary_kitchens_promotion_20241215  |14908.49   |8           |1863.56      |40000  |25091.51|\n",
      "|quarter_custom_kitchen_initiative_20241102      |16944.70   |8           |2118.09      |40000  |23055.30|\n",
      "|year_traditional_kitchens_fair_20240415         |19396.53   |8           |2424.57      |40000  |20603.47|\n",
      "|month_openconcept_kitchens_promotion_20240628   |13101.37   |6           |2183.56      |30000  |16898.63|\n",
      "|year_modern_kitchen_experience_20240702         |8528.47    |5           |1705.69      |25000  |16471.53|\n",
      "|year_smart_kitchens_initiative_20241004         |14583.82   |6           |2430.64      |30000  |15416.18|\n",
      "|quarter_spacesaving_kitchens_innovation_20240212|16599.41   |6           |2766.57      |30000  |13400.59|\n",
      "|year_smart_kitchens_event_20250102              |11699.64   |5           |2339.93      |25000  |13300.36|\n",
      "|quarter_ecofriendly_kitchens_show_20240217      |15766.13   |5           |3153.23      |25000  |9233.87 |\n",
      "|year_modern_kitchens_exhibit_20250117           |11523.99   |4           |2881.00      |20000  |8476.01 |\n",
      "|quarter_custom_kitchens_initiative_20240815     |21661.32   |6           |3610.22      |30000  |8338.68 |\n",
      "|year_luxury_kitchens_initiative_20240422        |17080.13   |5           |3416.03      |25000  |7919.87 |\n",
      "|month_smart_kitchen_innovation_20241202         |12080.23   |4           |3020.06      |20000  |7919.77 |\n",
      "|year_luxury_kitchens_innovation_20240409        |12400.86   |4           |3100.22      |20000  |7599.14 |\n",
      "|month_openconcept_kitchens_launch_20240611      |12627.93   |4           |3156.98      |20000  |7372.07 |\n",
      "|quarter_ecofriendly_kitchens_demo_20240514      |8070.52    |3           |2690.17      |15000  |6929.48 |\n",
      "|month_contemporary_kitchens_collection_20240914 |18549.00   |5           |3709.80      |25000  |6451.00 |\n",
      "+------------------------------------------------+-----------+------------+-------------+-------+--------+\n",
      "only showing top 20 rows\n",
      "\n"
     ]
    }
   ],
   "source": [
    "(\n",
    "    campaigns_agg\n",
    "    .select('campaign_name', 'total_costs', 'unique_deals', 'avg_deal_cost')\n",
    "    .withColumn('revenue', F.col('unique_deals')*F.lit(5000))\n",
    "    .withColumn('profit', F.col('revenue') - F.col('total_costs'))\n",
    "    .sort('profit', ascending = False)\n",
    "    .show(truncate=False)\n",
    ")"
   ]
  },
  {
   "cell_type": "markdown",
   "id": "dc239a7d-aee6-4225-9e36-05a2bfdd344d",
   "metadata": {},
   "source": [
    "## 5. Рассмотрим метрики в разбивке по месяцам"
   ]
  },
  {
   "cell_type": "code",
   "execution_count": 101,
   "id": "1f3d891e-d73b-4b50-b658-887ce0189d64",
   "metadata": {},
   "outputs": [
    {
     "name": "stdout",
     "output_type": "stream",
     "text": [
      "+-------+-------------+--------------+--------------+------------+-----------+------------+-----------+--------------+-------------+-------+---------+\n",
      "|  month|unique_visits|unique_clients|unique_submits|unique_deals|total_costs|total_clicks|total_views|total_duration|avg_deal_cost|revenue|   profit|\n",
      "+-------+-------------+--------------+--------------+------------+-----------+------------+-----------+--------------+-------------+-------+---------+\n",
      "|2024-01|          204|           185|            68|          36|  114500.26|       11503|     121211|         12066|      3180.56| 180000| 65499.74|\n",
      "|2024-02|          184|           164|            55|          28|   98550.71|        8960|     101263|         10213|      3519.67| 140000| 41449.29|\n",
      "|2024-03|          182|           164|            57|          34|   99016.38|       10123|     103950|         10311|      2912.25| 170000| 70983.62|\n",
      "|2024-04|          187|           166|            53|          21|   99450.75|        9704|     106688|          8394|      4735.75| 105000|  5549.25|\n",
      "|2024-05|          188|           174|            68|          30|   98370.96|       10277|      96216|          9905|      3279.03| 150000| 51629.04|\n",
      "|2024-06|          213|           185|            73|          22|  119465.06|       11687|     116962|         12160|      5430.23| 110000| -9465.06|\n",
      "|2024-07|          227|           201|            97|          31|  130429.28|       12057|     126608|         13147|      4207.40| 155000| 24570.72|\n",
      "|2024-08|          185|           168|            61|          20|  101370.66|       10503|      93264|         10817|      5068.53| 100000| -1370.66|\n",
      "|2024-09|          191|           168|            67|          15|  100807.61|       10091|     102230|         10225|      6720.51|  75000|-25807.61|\n",
      "|2024-10|          166|           154|            48|           8|   90724.62|        8663|      88011|          8335|     11340.58|  40000|-50724.62|\n",
      "|2024-11|          169|           153|            55|          10|   95950.90|        8920|      93793|          8522|      9595.09|  50000|-45950.90|\n",
      "|2024-12|          194|           173|            61|           3|   94383.07|       10071|     102543|         10472|     31461.02|  15000|-79383.07|\n",
      "|2025-01|          143|           131|            49|           1|   76898.52|        7578|      77122|          7926|     76898.52|   5000|-71898.52|\n",
      "+-------+-------------+--------------+--------------+------------+-----------+------------+-----------+--------------+-------------+-------+---------+\n",
      "\n"
     ]
    }
   ],
   "source": [
    "(\n",
    "    dates_agg\n",
    "    .withColumn('revenue', F.col('unique_deals') * F.lit(5000))\n",
    "    .withColumn('profit', F.col('revenue') - F.col('total_costs'))\n",
    "    #.drop('total_duration', 'total_views')\n",
    "    .sort('month')\n",
    "    .show()\n",
    ")"
   ]
  },
  {
   "cell_type": "markdown",
   "id": "1c448618-19a4-444f-ac68-35ba29a90359",
   "metadata": {},
   "source": [
    "## 6. Суммарные затраты на рекламу за год"
   ]
  },
  {
   "cell_type": "code",
   "execution_count": 92,
   "id": "00a3e919-1a32-454e-b6b9-7c60c7031232",
   "metadata": {},
   "outputs": [
    {
     "name": "stdout",
     "output_type": "stream",
     "text": [
      "+----------------+\n",
      "|sum(total_costs)|\n",
      "+----------------+\n",
      "|      1319918.78|\n",
      "+----------------+\n",
      "\n"
     ]
    }
   ],
   "source": [
    "dates_agg.select(F.sum('total_costs')).show()"
   ]
  },
  {
   "cell_type": "markdown",
   "id": "cd79ac1d-8ac5-4f6f-8403-5af77a73050c",
   "metadata": {},
   "source": [
    "##  7.Обнаружение аномалий с помощью Z-score"
   ]
  },
  {
   "cell_type": "markdown",
   "id": "6c93a46b-c882-4618-948b-3a1293cf0db3",
   "metadata": {},
   "source": [
    "Z-score (стандартизированная оценка, стандартизированное значение) — статистическая мера, показывающая, на сколько стандартных отклонений наблюдение отличается от среднего значения в выборке. "
   ]
  },
  {
   "cell_type": "code",
   "execution_count": 112,
   "id": "3dc84659-8cf4-4322-a347-0730a843c81b",
   "metadata": {},
   "outputs": [],
   "source": [
    "def detect_anomalies(df, metric_col, threshold=2.0):\n",
    "    window = Window.partitionBy().rowsBetween(Window.unboundedPreceding, Window.unboundedFollowing)\n",
    "    df_with_stats = df.withColumn(\"mean\", avg(metric_col).over(window)) \\\n",
    "                     .withColumn(\"stddev\", stddev(metric_col).over(window))\n",
    "    \n",
    "    df_with_anomalies = df_with_stats.withColumn(\n",
    "        \"z_score\", \n",
    "        abs((col(metric_col) - col(\"mean\")) / col(\"stddev\"))\n",
    "    ).withColumn(\n",
    "        \"is_anomaly\", \n",
    "        col(\"z_score\") > threshold\n",
    "    )\n",
    "    \n",
    "    return df_with_anomalies"
   ]
  },
  {
   "cell_type": "code",
   "execution_count": 117,
   "id": "d75c2368-dc59-4804-86c6-b2e81f651806",
   "metadata": {},
   "outputs": [
    {
     "name": "stdout",
     "output_type": "stream",
     "text": [
      "-RECORD 0-----------------------------------------------------\n",
      " campaign_name  | month_openconcept_kitchen_exhibit_20240327  \n",
      " unique_visits  | 33                                          \n",
      " unique_clients | 32                                          \n",
      " unique_submits | 12                                          \n",
      " unique_deals   | 5                                           \n",
      " total_costs    | 22668.32                                    \n",
      " total_clicks   | 2048                                        \n",
      " total_views    | 19423                                       \n",
      " total_duration | 1869                                        \n",
      " avg_deal_cost  | 4533.66                                     \n",
      " mean           | 13332.512929                                \n",
      " stddev         | 3148.7181620832885                          \n",
      " z_score        | 2.964954813492467                           \n",
      " is_anomaly     | true                                        \n",
      "-RECORD 1-----------------------------------------------------\n",
      " campaign_name  | quarter_custom_kitchens_initiative_20240815 \n",
      " unique_visits  | 37                                          \n",
      " unique_clients | 37                                          \n",
      " unique_submits | 14                                          \n",
      " unique_deals   | 6                                           \n",
      " total_costs    | 21661.32                                    \n",
      " total_clicks   | 2077                                        \n",
      " total_views    | 21683                                       \n",
      " total_duration | 2377                                        \n",
      " avg_deal_cost  | 3610.22                                     \n",
      " mean           | 13332.512929                                \n",
      " stddev         | 3148.7181620832885                          \n",
      " z_score        | 2.645142131580746                           \n",
      " is_anomaly     | true                                        \n",
      "\n"
     ]
    }
   ],
   "source": [
    "campaigns_agg_with_anomalies = detect_anomalies(campaigns_agg, \"total_costs\", 2.5)\n",
    "campaigns_agg_with_anomalies.filter('is_anomaly = true').show(truncate = False, vertical = True)"
   ]
  },
  {
   "cell_type": "markdown",
   "id": "0e385472-10a5-4e66-8c39-ef5e482586e6",
   "metadata": {},
   "source": [
    "Вывод: Есть две кампании с аномально высокими затратами на их проведение. вероятно, эти выбросы связаны с проведением масштабных мероприятий/выставок."
   ]
  },
  {
   "cell_type": "code",
   "execution_count": 121,
   "id": "3a89e627-d975-4b04-baa2-aabd13a1bff3",
   "metadata": {},
   "outputs": [
    {
     "name": "stdout",
     "output_type": "stream",
     "text": [
      "(0 rows)\n",
      "\n"
     ]
    }
   ],
   "source": [
    "dates_agg_with_anomalies = detect_anomalies(dates_agg, \"total_costs\", 2.5)\n",
    "dates_agg_with_anomalies.filter('is_anomaly = true').show(vertical = True)"
   ]
  },
  {
   "cell_type": "markdown",
   "id": "dcc83391-4646-4fe9-b543-e36cd0bda539",
   "metadata": {},
   "source": [
    "Вывод: Нет месяцев с экстремально высокими или низкими затратами. Это хороший знак - бюджет распределен равномерно в течение года"
   ]
  },
  {
   "cell_type": "markdown",
   "id": "537457cd-11b8-4f86-bc38-73229f6698e3",
   "metadata": {},
   "source": [
    "## 8. Расчет воронки с конверсиями"
   ]
  },
  {
   "cell_type": "code",
   "execution_count": 131,
   "id": "307bce7f-bbb9-4a3f-ae9d-33a8e3a66e08",
   "metadata": {},
   "outputs": [],
   "source": [
    "funnel_analysis = (\n",
    "    campaigns_agg\n",
    "    .withColumn(\"visits_to_clients\", \n",
    "                round(F.col(\"unique_clients\") / F.col(\"unique_visits\") * 100, 2))\n",
    "    .withColumn(\"clients_to_submits\", \n",
    "                round(F.col(\"unique_submits\") / F.col(\"unique_clients\") * 100, 2))\n",
    "    .withColumn(\"submits_to_deals\", \n",
    "                round(F.col(\"unique_deals\") / F.col(\"unique_submits\") * 100, 2))\n",
    "    .withColumn(\"overall_conversion\", \n",
    "                round(F.col(\"unique_deals\") / F.col(\"unique_visits\") * 100, 2))\n",
    "    .select(\n",
    "        \"campaign_name\",\n",
    "        \"unique_visits\",\n",
    "        \"unique_clients\", \n",
    "        \"unique_submits\",\n",
    "        \"unique_deals\",\n",
    "        \"visits_to_clients\",\n",
    "        \"clients_to_submits\", \n",
    "        \"submits_to_deals\",\n",
    "        \"overall_conversion\",\n",
    "        \"total_costs\"\n",
    "    )\n",
    ")\n"
   ]
  },
  {
   "cell_type": "markdown",
   "id": "2e559b19-fb3e-4219-bd25-6acbc476d385",
   "metadata": {},
   "source": [
    "Топ-10 кампаний по общей конверсии"
   ]
  },
  {
   "cell_type": "code",
   "execution_count": 130,
   "id": "6b5e77ca-2b6b-45d7-bfd2-2f7b0a95fee6",
   "metadata": {},
   "outputs": [
    {
     "name": "stdout",
     "output_type": "stream",
     "text": [
      "+----------------------------------------------+-------------+--------------+--------------+------------+-----------------+------------------+----------------+------------------+-----------+\n",
      "|campaign_name                                 |unique_visits|unique_clients|unique_submits|unique_deals|visits_to_clients|clients_to_submits|submits_to_deals|overall_conversion|total_costs|\n",
      "+----------------------------------------------+-------------+--------------+--------------+------------+-----------------+------------------+----------------+------------------+-----------+\n",
      "|year_modern_kitchen_experience_20240702       |13           |13            |4             |5           |100.0            |30.77             |125.0           |38.46             |8528.47    |\n",
      "|year_modern_kitchens_showcase_20241014        |23           |22            |9             |8           |95.65            |40.91             |88.89           |34.78             |11705.53   |\n",
      "|month_contemporary_kitchens_promotion_20241215|24           |24            |11            |8           |100.0            |45.83             |72.73           |33.33             |14908.49   |\n",
      "|quarter_custom_kitchens_innovation_20240817   |31           |30            |13            |10          |96.77            |43.33             |76.92           |32.26             |15356.76   |\n",
      "|year_traditional_kitchens_fair_20240415       |27           |26            |11            |8           |96.3             |42.31             |72.73           |29.63             |19396.53   |\n",
      "|quarter_custom_kitchens_experience_20240222   |31           |30            |12            |9           |96.77            |40.0              |75.0            |29.03             |16131.74   |\n",
      "|quarter_custom_kitchen_initiative_20241102    |29           |29            |13            |8           |100.0            |44.83             |61.54           |27.59             |16944.70   |\n",
      "|month_openconcept_kitchens_promotion_20240628 |22           |22            |9             |6           |100.0            |40.91             |66.67           |27.27             |13101.37   |\n",
      "|year_luxury_kitchens_innovation_20240409      |18           |18            |8             |4           |100.0            |44.44             |50.0            |22.22             |12400.86   |\n",
      "|year_smart_kitchens_event_20250102            |23           |23            |7             |5           |100.0            |30.43             |71.43           |21.74             |11699.64   |\n",
      "+----------------------------------------------+-------------+--------------+--------------+------------+-----------------+------------------+----------------+------------------+-----------+\n",
      "only showing top 10 rows\n",
      "\n"
     ]
    }
   ],
   "source": [
    "funnel_analysis.orderBy(F.desc(\"overall_conversion\")).show(10, truncate=False)"
   ]
  },
  {
   "cell_type": "code",
   "execution_count": 125,
   "id": "2c903162-b56e-4af9-a0f0-f7b6e9e90f43",
   "metadata": {},
   "outputs": [],
   "source": [
    "save_to_postgres(funnel_analysis, 'funnel_analysis')"
   ]
  },
  {
   "cell_type": "markdown",
   "id": "36cc3596-7253-47e9-b7e7-120ba92a0dd9",
   "metadata": {},
   "source": [
    "Поиск узких мест в воронке"
   ]
  },
  {
   "cell_type": "code",
   "execution_count": 128,
   "id": "323bfdeb-015e-4d57-b925-035bb65e5bc7",
   "metadata": {},
   "outputs": [
    {
     "name": "stdout",
     "output_type": "stream",
     "text": [
      "Анализ узких мест в воронке:\n",
      "+-----------------------------------------------+-----------------------------------+------------------+\n",
      "|campaign_name                                  |bottleneck_stage                   |overall_conversion|\n",
      "+-----------------------------------------------+-----------------------------------+------------------+\n",
      "|quarter_custom_kitchens_showcase_20240210      |Низкая конверсия из заявок в сделки|0.0               |\n",
      "|year_modern_kitchens_demo_20240419             |Низкая конверсия из заявок в сделки|0.0               |\n",
      "|month_ecofriendly_kitchens_experience_20241219 |Низкая конверсия из заявок в сделки|0.0               |\n",
      "|month_contemporary_kitchens_event_20241208     |Низкая конверсия из заявок в сделки|0.0               |\n",
      "|month_openconcept_kitchens_experience_20240910 |Низкая конверсия из заявок в сделки|0.0               |\n",
      "|month_smart_kitchens_launch_20240330           |Низкая конверсия из заявок в сделки|0.0               |\n",
      "|year_traditional_kitchens_showcase_20241018    |Низкая конверсия из заявок в сделки|0.0               |\n",
      "|quarter_ecofriendly_kitchen_experience_20241119|Низкая конверсия из заявок в сделки|0.0               |\n",
      "|quarter_custom_kitchens_experience_20240527    |Низкая конверсия из заявок в сделки|0.0               |\n",
      "|quarter_luxury_kitchens_innovation_20241116    |Низкая конверсия из заявок в сделки|0.0               |\n",
      "|month_smart_kitchen_promotion_20240305         |Низкая конверсия из заявок в сделки|0.0               |\n",
      "|month_contemporary_kitchens_event_20240920     |Низкая конверсия из заявок в сделки|0.0               |\n",
      "|month_openconcept_kitchens_initiative_20240328 |Низкая конверсия из заявок в сделки|0.0               |\n",
      "|quarter_spacesaving_kitchen_innovation_20240825|Нет явных узких мест               |3.03              |\n",
      "|month_contemporary_kitchen_showcase_20240630   |Нет явных узких мест               |3.23              |\n",
      "|quarter_custom_kitchen_show_20240213           |Нет явных узких мест               |3.33              |\n",
      "|year_luxury_kitchens_show_20241001             |Нет явных узких мест               |3.7               |\n",
      "|quarter_ecofriendly_kitchen_show_20240530      |Нет явных узких мест               |3.85              |\n",
      "|month_contemporary_kitchen_launch_20240322     |Нет явных узких мест               |4.0               |\n",
      "|quarter_ecofriendly_kitchens_showcase_20240823 |Низкая конверсия из заявок в сделки|4.0               |\n",
      "+-----------------------------------------------+-----------------------------------+------------------+\n",
      "only showing top 20 rows\n",
      "\n"
     ]
    }
   ],
   "source": [
    "bottleneck_analysis = (\n",
    "    funnel_analysis\n",
    "    .withColumn(\"bottleneck_stage\", \n",
    "                F.when(F.col(\"submits_to_deals\") < 10, \"Низкая конверсия из заявок в сделки\")\n",
    "                .when(F.col(\"clients_to_submits\") < 10, \"Низкая конверсия из клиентов в заявки\")\n",
    "                .when(F.col(\"visits_to_clients\") < 10, \"Низкая конверсия из визитов в клиентов\")\n",
    "                .otherwise(\"Нет явных узких мест\"))\n",
    "    .select(\"campaign_name\", \"bottleneck_stage\", \"overall_conversion\")\n",
    "    .orderBy(\"overall_conversion\")\n",
    ")\n",
    "\n",
    "print(\"Анализ узких мест в воронке:\")\n",
    "bottleneck_analysis.show(truncate=False)"
   ]
  },
  {
   "cell_type": "markdown",
   "id": "95676cc2-1136-43ee-978a-d515415e592d",
   "metadata": {},
   "source": [
    "# Завершение Spark session"
   ]
  },
  {
   "cell_type": "code",
   "execution_count": 93,
   "id": "fbc787a6-178f-490d-8502-14fbf254022d",
   "metadata": {},
   "outputs": [
    {
     "data": {
      "text/plain": [
       "DataFrame[month: string, unique_visits: bigint, unique_clients: bigint, unique_submits: bigint, unique_deals: bigint, total_costs: decimal(29,2), total_clicks: bigint, total_views: bigint, total_duration: bigint, avg_deal_cost: decimal(19,2)]"
      ]
     },
     "execution_count": 93,
     "metadata": {},
     "output_type": "execute_result"
    }
   ],
   "source": [
    "\n",
    "customer_detailed.unpersist()\n",
    "campaigns_agg.unpersist()\n",
    "dates_agg.unpersist()"
   ]
  },
  {
   "cell_type": "code",
   "execution_count": null,
   "id": "87215ae3-343a-4c2a-83fc-08e8b24b1cee",
   "metadata": {},
   "outputs": [],
   "source": [
    "spark.stop()"
   ]
  }
 ],
 "metadata": {
  "kernelspec": {
   "display_name": "Python 3 (ipykernel)",
   "language": "python",
   "name": "python3"
  },
  "language_info": {
   "codemirror_mode": {
    "name": "ipython",
    "version": 3
   },
   "file_extension": ".py",
   "mimetype": "text/x-python",
   "name": "python",
   "nbconvert_exporter": "python",
   "pygments_lexer": "ipython3",
   "version": "3.11.6"
  }
 },
 "nbformat": 4,
 "nbformat_minor": 5
}
